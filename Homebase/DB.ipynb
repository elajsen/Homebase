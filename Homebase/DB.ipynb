{
 "cells": [
  {
   "cell_type": "code",
   "execution_count": 30,
   "id": "62538e05-f593-450e-a391-402cac3d73ea",
   "metadata": {},
   "outputs": [],
   "source": [
    "import django, os\n",
    "from django.conf import settings\n",
    "\n",
    "os.environ['DJANGO_SETTINGS_MODULE'] = 'Homebase.settings'\n",
    "django.setup()\n",
    "\n",
    "from models.mongo_handler import MongoHandler"
   ]
  },
  {
   "cell_type": "code",
   "execution_count": 31,
   "id": "ccdd1c88-3ca2-47b2-b784-003e7bc572fc",
   "metadata": {},
   "outputs": [],
   "source": [
    "mh = MongoHandler()"
   ]
  },
  {
   "cell_type": "code",
   "execution_count": 37,
   "id": "1dbfed04-7368-486a-8e18-79c8c9a6de88",
   "metadata": {},
   "outputs": [
    {
     "data": {
      "text/plain": [
       "{'_id': ObjectId('64807182cfdba874de9f4b7a'),\n",
       " 'basic-fit': {'2023-06-19': 19.99, '2023-08-10': 19.99},\n",
       " 'orange': {'2023-06-16': 15},\n",
       " 'csn': {'2023-08-31': 3953, '2023-11-30': 3953}}"
      ]
     },
     "execution_count": 37,
     "metadata": {},
     "output_type": "execute_result"
    }
   ],
   "source": [
    "old_bills = mh.get_bills()\n",
    "old_bills"
   ]
  },
  {
   "cell_type": "code",
   "execution_count": 45,
   "id": "421b0fcc-6036-46da-aede-c769ac22c262",
   "metadata": {},
   "outputs": [
    {
     "data": {
      "text/plain": [
       "'2023-06-16'"
      ]
     },
     "execution_count": 45,
     "metadata": {},
     "output_type": "execute_result"
    }
   ],
   "source": [
    "list(old_bills.get(\"orange\").keys())[0]"
   ]
  },
  {
   "cell_type": "code",
   "execution_count": 36,
   "id": "f9e08a1f-e4cc-48c4-b96e-337c6c904953",
   "metadata": {},
   "outputs": [
    {
     "name": "stdout",
     "output_type": "stream",
     "text": [
      "{'_id': ObjectId('64807182cfdba874de9f4b7a')}\n",
      "1\n"
     ]
    },
    {
     "data": {
      "text/plain": [
       "1"
      ]
     },
     "execution_count": 36,
     "metadata": {},
     "output_type": "execute_result"
    }
   ],
   "source": [
    "filter = {\"_id\": old_bills.get(\"_id\")}\n",
    "print(filter)\n",
    "update = {\"$set\": {\"basic-fit.2023-08-10\": 19.99}}\n",
    "result = mh.client[mh.db_name][mh.bills].update_one(filter, update)\n",
    "print(result.matched_count)\n",
    "result.modified_count"
   ]
  },
  {
   "cell_type": "code",
   "execution_count": 26,
   "id": "ccf2d030-d926-40da-8d7d-7b8fbae841df",
   "metadata": {},
   "outputs": [
    {
     "data": {
      "text/plain": [
       "0"
      ]
     },
     "execution_count": 26,
     "metadata": {},
     "output_type": "execute_result"
    }
   ],
   "source": []
  },
  {
   "cell_type": "code",
   "execution_count": null,
   "id": "d52bbe56-e353-4548-8064-3a4d4f2267e6",
   "metadata": {},
   "outputs": [],
   "source": []
  }
 ],
 "metadata": {
  "kernelspec": {
   "display_name": "Python 3 (ipykernel)",
   "language": "python",
   "name": "python3"
  },
  "language_info": {
   "codemirror_mode": {
    "name": "ipython",
    "version": 3
   },
   "file_extension": ".py",
   "mimetype": "text/x-python",
   "name": "python",
   "nbconvert_exporter": "python",
   "pygments_lexer": "ipython3",
   "version": "3.7.2"
  }
 },
 "nbformat": 4,
 "nbformat_minor": 5
}
