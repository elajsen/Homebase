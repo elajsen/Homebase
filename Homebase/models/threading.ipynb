{
 "cells": [
  {
   "cell_type": "code",
   "execution_count": 2,
   "id": "9cd8c6c0-325a-4359-810d-188d82bf522b",
   "metadata": {},
   "outputs": [],
   "source": [
    "import threading, time"
   ]
  },
  {
   "cell_type": "code",
   "execution_count": 6,
   "id": "745f74e8-2307-4c8b-8ace-f13654585d42",
   "metadata": {},
   "outputs": [],
   "source": [
    "def foo():\n",
    "    time.sleep(5)\n",
    "    print(\"Function running\")"
   ]
  },
  {
   "cell_type": "code",
   "execution_count": 7,
   "id": "94a22993-cd55-473b-a03e-3cd9d8d67e84",
   "metadata": {},
   "outputs": [
    {
     "name": "stdout",
     "output_type": "stream",
     "text": [
      "this\n",
      "Function running\n"
     ]
    }
   ],
   "source": [
    "threading.Thread(target=foo).start()\n",
    "\n",
    "time.sleep(3)\n",
    "print(\"this\")"
   ]
  },
  {
   "cell_type": "code",
   "execution_count": null,
   "id": "58829986-2543-405e-9ac5-c7e494861210",
   "metadata": {},
   "outputs": [],
   "source": []
  }
 ],
 "metadata": {
  "kernelspec": {
   "display_name": "Python 3 (ipykernel)",
   "language": "python",
   "name": "python3"
  },
  "language_info": {
   "codemirror_mode": {
    "name": "ipython",
    "version": 3
   },
   "file_extension": ".py",
   "mimetype": "text/x-python",
   "name": "python",
   "nbconvert_exporter": "python",
   "pygments_lexer": "ipython3",
   "version": "3.7.2"
  }
 },
 "nbformat": 4,
 "nbformat_minor": 5
}
