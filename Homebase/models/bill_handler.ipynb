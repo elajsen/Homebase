{
 "cells": [
  {
   "cell_type": "code",
   "execution_count": 1,
   "id": "347152eb-4c39-4bd7-b5dd-cd7ee469d4cf",
   "metadata": {},
   "outputs": [],
   "source": [
    "import selenium, time, re\n",
    "from selenium import webdriver\n",
    "from webdriver_manager.chrome import ChromeDriverManager\n",
    "from datetime import datetime, date\n",
    "from dateutil.relativedelta import relativedelta\n",
    "\n",
    "from selenium.webdriver.common.by import By\n",
    "from selenium.webdriver.support.wait import WebDriverWait\n",
    "from selenium.webdriver.support import expected_conditions as EC\n",
    "from selenium.webdriver.common.action_chains import ActionChains\n",
    "\n",
    "def get_driver(headless):\n",
    "    chrome_options = webdriver.ChromeOptions()\n",
    "\n",
    "    if headless:\n",
    "        chrome_options.add_argument(\"--headless=new\")\n",
    "\n",
    "    chrome_options.add_argument(\"--icognito\")\n",
    "    chrome_options.add_argument('--disable-blink-features=AutomationControlled')\n",
    "\n",
    "    driver = webdriver.Chrome(ChromeDriverManager().install(), chrome_options=chrome_options)\n",
    "    return driver\n",
    "#driver = get_driver(True)"
   ]
  },
  {
   "cell_type": "markdown",
   "id": "e96faab5-505a-459f-8e03-ea4162b88057",
   "metadata": {},
   "source": [
    "Basic Fit"
   ]
  },
  {
   "cell_type": "code",
   "execution_count": 2,
   "id": "66cd727e-b2e7-4967-a4ea-f0824fa86efe",
   "metadata": {
    "tags": []
   },
   "outputs": [
    {
     "name": "stderr",
     "output_type": "stream",
     "text": [
      "\n",
      "\n",
      "====== WebDriver manager ======\n",
      "Current google-chrome version is 114.0.5735\n",
      "Get LATEST chromedriver version for 114.0.5735 google-chrome\n",
      "Driver [/Users/eliasmattson/.wdm/drivers/chromedriver/mac64/114.0.5735.90/chromedriver] found in cache\n",
      "/Library/Frameworks/Python.framework/Versions/3.7/lib/python3.7/site-packages/ipykernel_launcher.py:21: DeprecationWarning: executable_path has been deprecated, please pass in a Service object\n",
      "/Library/Frameworks/Python.framework/Versions/3.7/lib/python3.7/site-packages/ipykernel_launcher.py:21: DeprecationWarning: use options instead of chrome_options\n"
     ]
    },
    {
     "data": {
      "text/plain": [
       "{'2023-06-19': 19.99}"
      ]
     },
     "execution_count": 2,
     "metadata": {},
     "output_type": "execute_result"
    }
   ],
   "source": [
    "def get_date(driver):\n",
    "    driver.get(\"https://my.basic-fit.com/payments\")\n",
    "\n",
    "    nota_sig_el = WebDriverWait(driver, 10).until(\n",
    "        EC.presence_of_element_located((By.XPATH, \"//h3[text()='Nota siguiente']\"))\n",
    "    )\n",
    "\n",
    "    p_els = WebDriverWait(nota_sig_el, 10).until(\n",
    "        EC.presence_of_element_located((By.XPATH, \"..//p\"))\n",
    "    )\n",
    "    p_els = nota_sig_el.find_elements(by=By.XPATH, value=\"..//p\")\n",
    "\n",
    "    for p in p_els:\n",
    "        html = p.get_attribute(\"innerHTML\")\n",
    "        res = re.findall(\"[0-9]{2}-[0-9]{2}-[0-9]{4}\", html)\n",
    "        if len(res)>0:\n",
    "            date = res[0]\n",
    "            break\n",
    "        else:\n",
    "            print(f\"Couldnt find the date {html}\")\n",
    "    driver.quit()\n",
    "\n",
    "    split_date = date.split(\"-\")\n",
    "    form_date = split_date[-1] + \"-\" + split_date[-2] + \"-\" + split_date[-3]\n",
    "    return form_date\n",
    "\n",
    "def log_in(driver, email, pswrd):\n",
    "    try:\n",
    "        element = WebDriverWait(driver, 10).until(\n",
    "            EC.presence_of_element_located((By.XPATH, \"//button[text()='Allow all cookies']\"))\n",
    "        )\n",
    "        element.click()\n",
    "    except:\n",
    "        print(\"Couldn't turn on cookies\")\n",
    "    \n",
    "    email_input = WebDriverWait(driver, 10).until(\n",
    "            EC.presence_of_element_located((By.XPATH, \"//input[@name='email']\"))\n",
    "        )\n",
    "    pswrd_input = driver.find_element(by=By.XPATH, value=\"//input[@name='password']\")\n",
    "\n",
    "    email_input.send_keys(email)\n",
    "    pswrd_input.send_keys(pswrd)\n",
    "\n",
    "    sub_btn = driver.find_element(by=By.XPATH, value=\"//button[@type='submit']\")\n",
    "    driver.execute_script(\"window.scrollTo(0, document.body.scrollHeight);\")\n",
    "\n",
    "    sub_btn.click()\n",
    "    time.sleep(2)\n",
    "\n",
    "def get_basic_fit_date():\n",
    "    driver = get_driver(True)\n",
    "    email = \"elajsen.mattson@gmail.com\"\n",
    "    pswrd = \"Qtepa112\"\n",
    "    amount = 19.99\n",
    "\n",
    "    driver.get(\"https://my.basic-fit.com/\")\n",
    "    \n",
    "    log_in(driver, email, pswrd)\n",
    "    \n",
    "    date = get_date(driver)\n",
    "    return {date: amount}\n",
    "\n",
    "get_basic_fit_date()"
   ]
  },
  {
   "cell_type": "markdown",
   "id": "2b2eda74-df30-4d98-abb4-cbe37c62938f",
   "metadata": {},
   "source": [
    "Orange"
   ]
  },
  {
   "cell_type": "code",
   "execution_count": 3,
   "id": "7f11c457-421a-4916-9374-5c7924d28aed",
   "metadata": {},
   "outputs": [
    {
     "name": "stderr",
     "output_type": "stream",
     "text": [
      "\n",
      "\n",
      "====== WebDriver manager ======\n",
      "Current google-chrome version is 114.0.5735\n",
      "Get LATEST chromedriver version for 114.0.5735 google-chrome\n",
      "Driver [/Users/eliasmattson/.wdm/drivers/chromedriver/mac64/114.0.5735.90/chromedriver] found in cache\n",
      "/Library/Frameworks/Python.framework/Versions/3.7/lib/python3.7/site-packages/ipykernel_launcher.py:21: DeprecationWarning: executable_path has been deprecated, please pass in a Service object\n",
      "/Library/Frameworks/Python.framework/Versions/3.7/lib/python3.7/site-packages/ipykernel_launcher.py:21: DeprecationWarning: use options instead of chrome_options\n"
     ]
    },
    {
     "data": {
      "text/plain": [
       "{'2023-06-16': 15}"
      ]
     },
     "execution_count": 3,
     "metadata": {},
     "output_type": "execute_result"
    }
   ],
   "source": [
    "def log_in(driver, username, pswrd):\n",
    "    element = WebDriverWait(driver, 10).until(\n",
    "        EC.presence_of_element_located((By.XPATH, \"//div[@id='consent_prompt_submit']\"))\n",
    "    )\n",
    "    element.click()\n",
    "    user_el = driver.find_element(by=By.XPATH, value=\"//input[@placeholder='Usuario']\")\n",
    "    pswrd_el = driver.find_element(by=By.XPATH, value=\"//input[@placeholder='Contraseña']\")\n",
    "\n",
    "    user_el.send_keys(username)\n",
    "    pswrd_el.send_keys(pswrd)\n",
    "\n",
    "    driver.find_element(by=By.XPATH, value=\"//button[@type='submit']\").click()\n",
    "\n",
    "def get_date(driver):\n",
    "    driver.get(\"https://areaprivada.orange.es/soycliente/mi-linea\")\n",
    "    \n",
    "    element = WebDriverWait(driver, 10).until(\n",
    "        EC.presence_of_element_located((By.XPATH, \"//div[@class='tariff-renewal-date']\"))\n",
    "    )\n",
    "    html = element\\\n",
    "        .find_element(by=By.TAG_NAME, value=\"p\").get_attribute(\"innerHTML\")\n",
    "\n",
    "    date = re.findall(\"[0-9]{2}/[0-9]{2}/[0-9]{4}\", html)\n",
    "    split_date = date[0].split(\"/\")\n",
    "    format_date = split_date[-1] + \"-\" + split_date[-2] + \"-\" + split_date[-3]\n",
    "    driver.quit()\n",
    "    return format_date\n",
    "\n",
    "def get_orange_date():\n",
    "    # Headless friendly\n",
    "    driver = get_driver(True)\n",
    "    username = \"651015507\"\n",
    "    pswrd = \"Qtepa112\"\n",
    "    amount = 15\n",
    "\n",
    "    driver.get(\"https://areaprivada.orange.es\")\n",
    "\n",
    "    log_in(driver, username, pswrd)\n",
    "    \n",
    "    date = get_date(driver)\n",
    "    return {date: amount}\n",
    "\n",
    "get_orange_date()"
   ]
  },
  {
   "cell_type": "code",
   "execution_count": 4,
   "id": "b3d30c7e-fd53-4421-a041-bc61eb6de99c",
   "metadata": {},
   "outputs": [],
   "source": [
    "def get_csn_dates():\n",
    "    return {\n",
    "        \"2023-08-31\": 3953,\n",
    "        \"2023-11-30\": 3953\n",
    "    }"
   ]
  },
  {
   "cell_type": "code",
   "execution_count": 5,
   "id": "b99f084b-92ab-4910-b0e4-6b6293bf77ff",
   "metadata": {},
   "outputs": [
    {
     "data": {
      "text/plain": [
       "{'2023-08-31': 3953, '2023-11-30': 3953}"
      ]
     },
     "execution_count": 5,
     "metadata": {},
     "output_type": "execute_result"
    }
   ],
   "source": [
    "get_csn_dates()"
   ]
  },
  {
   "cell_type": "code",
   "execution_count": 1,
   "id": "d9177e46-5f4c-4c05-a4b9-18ac64af8eb7",
   "metadata": {},
   "outputs": [
    {
     "name": "stderr",
     "output_type": "stream",
     "text": [
      "\n",
      "\n",
      "====== WebDriver manager ======\n",
      "Current google-chrome version is 114.0.5735\n",
      "Get LATEST chromedriver version for 114.0.5735 google-chrome\n",
      "Driver [/Users/eliasmattson/.wdm/drivers/chromedriver/mac64/114.0.5735.90/chromedriver] found in cache\n",
      "\n",
      "\n",
      "====== WebDriver manager ======\n",
      "Current google-chrome version is 114.0.5735\n",
      "Get LATEST chromedriver version for 114.0.5735 google-chrome\n",
      "Driver [/Users/eliasmattson/.wdm/drivers/chromedriver/mac64/114.0.5735.90/chromedriver] found in cache\n"
     ]
    },
    {
     "name": "stdout",
     "output_type": "stream",
     "text": [
      "{'2023-06-19': 19.99} {'2023-06-16': 15} {'2023-08-31': 3953, '2023-11-30': 3953}\n"
     ]
    }
   ],
   "source": [
    "from bill_handler import BillHandler\n",
    "bh = BillHandler()\n",
    "bh.get_dates()"
   ]
  },
  {
   "cell_type": "code",
   "execution_count": null,
   "id": "965a1774-a498-47e7-90f1-2675dce3cf19",
   "metadata": {},
   "outputs": [],
   "source": []
  }
 ],
 "metadata": {
  "kernelspec": {
   "display_name": "Python 3 (ipykernel)",
   "language": "python",
   "name": "python3"
  },
  "language_info": {
   "codemirror_mode": {
    "name": "ipython",
    "version": 3
   },
   "file_extension": ".py",
   "mimetype": "text/x-python",
   "name": "python",
   "nbconvert_exporter": "python",
   "pygments_lexer": "ipython3",
   "version": "3.7.2"
  }
 },
 "nbformat": 4,
 "nbformat_minor": 5
}
