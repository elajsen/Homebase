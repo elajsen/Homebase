{
 "cells": [
  {
   "cell_type": "code",
   "execution_count": 1,
   "id": "347152eb-4c39-4bd7-b5dd-cd7ee469d4cf",
   "metadata": {},
   "outputs": [
    {
     "name": "stderr",
     "output_type": "stream",
     "text": [
      "\n",
      "\n",
      "====== WebDriver manager ======\n",
      "Current google-chrome version is 114.0.5735\n",
      "Get LATEST chromedriver version for 114.0.5735 google-chrome\n",
      "Driver [/Users/eliasmattson/.wdm/drivers/chromedriver/mac64/114.0.5735.90/chromedriver] found in cache\n",
      "/Library/Frameworks/Python.framework/Versions/3.7/lib/python3.7/site-packages/ipykernel_launcher.py:21: DeprecationWarning: executable_path has been deprecated, please pass in a Service object\n",
      "/Library/Frameworks/Python.framework/Versions/3.7/lib/python3.7/site-packages/ipykernel_launcher.py:21: DeprecationWarning: use options instead of chrome_options\n"
     ]
    }
   ],
   "source": [
    "import selenium, time, re\n",
    "from selenium import webdriver\n",
    "from webdriver_manager.chrome import ChromeDriverManager\n",
    "from datetime import datetime, date\n",
    "from dateutil.relativedelta import relativedelta\n",
    "\n",
    "from selenium.webdriver.common.by import By\n",
    "from selenium.webdriver.support.wait import WebDriverWait\n",
    "from selenium.webdriver.support import expected_conditions as EC\n",
    "from selenium.webdriver.common.action_chains import ActionChains\n",
    "\n",
    "def get_driver(headless):\n",
    "    chrome_options = webdriver.ChromeOptions()\n",
    "\n",
    "    if headless:\n",
    "        chrome_options.add_argument(\"--headless\")\n",
    "\n",
    "    chrome_options.add_argument(\"--icognito\")\n",
    "    chrome_options.add_argument('--disable-blink-features=AutomationControlled')\n",
    "\n",
    "    driver = webdriver.Chrome(ChromeDriverManager().install(), chrome_options=chrome_options)\n",
    "    return driver\n",
    "driver = get_driver(False)"
   ]
  },
  {
   "cell_type": "markdown",
   "id": "e96faab5-505a-459f-8e03-ea4162b88057",
   "metadata": {},
   "source": [
    "Basic Fit"
   ]
  },
  {
   "cell_type": "code",
   "execution_count": 2,
   "id": "66cd727e-b2e7-4967-a4ea-f0824fa86efe",
   "metadata": {
    "tags": []
   },
   "outputs": [
    {
     "name": "stderr",
     "output_type": "stream",
     "text": [
      "/Library/Frameworks/Python.framework/Versions/3.7/lib/python3.7/site-packages/ipykernel_launcher.py:28: DeprecationWarning: find_element_by_xpath is deprecated. Please use find_element(by=By.XPATH, value=xpath) instead\n",
      "/Library/Frameworks/Python.framework/Versions/3.7/lib/python3.7/site-packages/ipykernel_launcher.py:29: DeprecationWarning: find_element_by_xpath is deprecated. Please use find_element(by=By.XPATH, value=xpath) instead\n",
      "/Library/Frameworks/Python.framework/Versions/3.7/lib/python3.7/site-packages/ipykernel_launcher.py:34: DeprecationWarning: find_element_by_xpath is deprecated. Please use find_element(by=By.XPATH, value=xpath) instead\n"
     ]
    },
    {
     "name": "stdout",
     "output_type": "stream",
     "text": [
      "[<selenium.webdriver.remote.webelement.WebElement (session=\"1c95c1acb3ac829790544f8685f4bf48\", element=\"2E30DF003373A1CFCDE97AA42388CD4A_element_28\")>, <selenium.webdriver.remote.webelement.WebElement (session=\"1c95c1acb3ac829790544f8685f4bf48\", element=\"2E30DF003373A1CFCDE97AA42388CD4A_element_29\")>, <selenium.webdriver.remote.webelement.WebElement (session=\"1c95c1acb3ac829790544f8685f4bf48\", element=\"2E30DF003373A1CFCDE97AA42388CD4A_element_30\")>]\n"
     ]
    },
    {
     "name": "stderr",
     "output_type": "stream",
     "text": [
      "/Library/Frameworks/Python.framework/Versions/3.7/lib/python3.7/site-packages/selenium/webdriver/remote/webelement.py:426: UserWarning: find_elements_by_xpath is deprecated. Please use find_elements(by=By.XPATH, value=xpath) instead\n",
      "  warnings.warn(\"find_elements_by_xpath is deprecated. Please use find_elements(by=By.XPATH, value=xpath) instead\")\n"
     ]
    },
    {
     "data": {
      "text/plain": [
       "'2023-06-19'"
      ]
     },
     "execution_count": 2,
     "metadata": {},
     "output_type": "execute_result"
    }
   ],
   "source": [
    "def get_date():\n",
    "    driver.get(\"https://my.basic-fit.com/payments\")\n",
    "\n",
    "    nota_sig_el = WebDriverWait(driver, 10).until(\n",
    "        EC.presence_of_element_located((By.XPATH, \"//h3[text()='Nota siguiente']\"))\n",
    "    )\n",
    "    p_els = nota_sig_el.find_elements_by_xpath(\"..//p\")\n",
    "\n",
    "    for p in p_els:\n",
    "        html = p.get_attribute(\"innerHTML\")\n",
    "        res = re.findall(\"[0-9]{2}-[0-9]{2}-[0-9]{4}\", html)\n",
    "        if len(res)>0:\n",
    "            date = res[0]\n",
    "            break\n",
    "        else:\n",
    "            print(f\"Couldnt find the date {html}\")\n",
    "\n",
    "    split_date = date.split(\"-\")\n",
    "    form_date = split_date[-1] + \"-\" + split_date[-2] + \"-\" + split_date[-3]\n",
    "    return form_date\n",
    "\n",
    "def log_in(email, pswrd):\n",
    "    element = WebDriverWait(driver, 10).until(\n",
    "        EC.presence_of_element_located((By.XPATH, \"//button[text()='Allow all cookies']\"))\n",
    "    )\n",
    "    element.click()\n",
    "    \n",
    "    email_input = driver.find_element_by_xpath(\"//input[@name='email']\")\n",
    "    pswrd_input = driver.find_element_by_xpath(\"//input[@name='password']\")\n",
    "\n",
    "    email_input.send_keys(email)\n",
    "    pswrd_input.send_keys(pswrd)\n",
    "\n",
    "    sub_btn = driver.find_element_by_xpath(\"//button[@type='submit']\")\n",
    "    driver.execute_script(\"window.scrollTo(0, document.body.scrollHeight);\")\n",
    "\n",
    "    sub_btn.click()\n",
    "    time.sleep(2)\n",
    "\n",
    "def get_basic_fit_date():\n",
    "    email = \"elajsen.mattson@gmail.com\"\n",
    "    pswrd = \"Qtepa112\"\n",
    "\n",
    "    driver.get(\"https://my.basic-fit.com/\")\n",
    "    \n",
    "    log_in(email, pswrd)\n",
    "    \n",
    "    date = get_date()\n",
    "    return date\n",
    "\n",
    "get_basic_fit_date()"
   ]
  },
  {
   "cell_type": "markdown",
   "id": "2b2eda74-df30-4d98-abb4-cbe37c62938f",
   "metadata": {},
   "source": [
    "Orange"
   ]
  },
  {
   "cell_type": "code",
   "execution_count": null,
   "id": "7f11c457-421a-4916-9374-5c7924d28aed",
   "metadata": {},
   "outputs": [],
   "source": [
    "def log_in(username, pswrd):\n",
    "    element = WebDriverWait(driver, 10).until(\n",
    "        EC.presence_of_element_located((By.XPATH, \"//div[@id='consent_prompt_submit']\"))\n",
    "    )\n",
    "    element.click()\n",
    "    user_el = driver.find_element_by_xpath(\"//input[@placeholder='Usuario']\")\n",
    "    pswrd_el = driver.find_element_by_xpath(\"//input[@placeholder='Contraseña']\")\n",
    "\n",
    "    user_el.send_keys(username)\n",
    "    pswrd_el.send_keys(pswrd)\n",
    "\n",
    "    driver.find_element_by_xpath(\"//button[@type='submit']\").click()\n",
    "\n",
    "def get_date():\n",
    "    driver.get(\"https://areaprivada.orange.es/soycliente/mi-linea\")\n",
    "    \n",
    "    element = WebDriverWait(driver, 10).until(\n",
    "        EC.presence_of_element_located((By.XPATH, \"//div[@class='tariff-renewal-date']\"))\n",
    "    )\n",
    "    html = element\\\n",
    "        .find_element_by_tag_name(\"p\").get_attribute(\"innerHTML\")\n",
    "\n",
    "    date = re.findall(\"[0-9]{2}/[0-9]{2}/[0-9]{4}\", html)\n",
    "    split_date = date[0].split(\"/\")\n",
    "    format_date = split_date[-1] + \"-\" + split_date[-2] + \"-\" + split_date[-3]\n",
    "    driver.quit()\n",
    "    return format_date\n",
    "\n",
    "def get_orange_date():\n",
    "    username = \"651015507\"\n",
    "    pswrd = \"Qtepa112\"\n",
    "\n",
    "    driver.get(\"https://areaprivada.orange.es\")\n",
    "\n",
    "    log_in(username, pswrd)\n",
    "    \n",
    "    date = get_date()\n",
    "    return date\n",
    "\n",
    "get_orange_date()"
   ]
  },
  {
   "cell_type": "code",
   "execution_count": null,
   "id": "b3d30c7e-fd53-4421-a041-bc61eb6de99c",
   "metadata": {},
   "outputs": [],
   "source": []
  }
 ],
 "metadata": {
  "kernelspec": {
   "display_name": "Python 3 (ipykernel)",
   "language": "python",
   "name": "python3"
  },
  "language_info": {
   "codemirror_mode": {
    "name": "ipython",
    "version": 3
   },
   "file_extension": ".py",
   "mimetype": "text/x-python",
   "name": "python",
   "nbconvert_exporter": "python",
   "pygments_lexer": "ipython3",
   "version": "3.7.2"
  }
 },
 "nbformat": 4,
 "nbformat_minor": 5
}
