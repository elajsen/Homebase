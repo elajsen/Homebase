{
 "cells": [
  {
   "cell_type": "code",
   "execution_count": 1,
   "id": "52e8c5ea-906d-43bc-b2f8-02c03ca88709",
   "metadata": {},
   "outputs": [],
   "source": [
    "from mongo_handler import MongoHandler\n",
    "from bill_handler import BasicFitHandler, CSNHandler, BillHandler"
   ]
  },
  {
   "cell_type": "code",
   "execution_count": 2,
   "id": "8a6d0c1a-cc6c-4719-8f50-6146062be5a5",
   "metadata": {},
   "outputs": [],
   "source": [
    "mh = MongoHandler()"
   ]
  },
  {
   "cell_type": "code",
   "execution_count": 3,
   "id": "fa9a59fd-6b07-4c77-824c-1f36f4cbab96",
   "metadata": {},
   "outputs": [],
   "source": [
    "bh = BillHandler()\n",
    "bfh = BasicFitHandler()\n",
    "csv = CSNHandler()"
   ]
  },
  {
   "cell_type": "code",
   "execution_count": 4,
   "id": "63493f69-3217-485e-a5c5-39af15d00ffb",
   "metadata": {},
   "outputs": [
    {
     "data": {
      "text/plain": [
       "[{'page': 'basic-fit', 'date': '2023-06-19', 'amount': 19.99},\n",
       " {'page': 'orange', 'date': '2023-06-16', 'amount': 15}]"
      ]
     },
     "execution_count": 4,
     "metadata": {},
     "output_type": "execute_result"
    }
   ],
   "source": [
    "bh.get_dates()"
   ]
  },
  {
   "cell_type": "code",
   "execution_count": 5,
   "id": "c8372945-19fc-41e1-9a9e-e6e00fe539f5",
   "metadata": {},
   "outputs": [
    {
     "data": {
      "text/plain": [
       "{'2023-06-19': 19.99}"
      ]
     },
     "execution_count": 5,
     "metadata": {},
     "output_type": "execute_result"
    }
   ],
   "source": [
    "bfh.get_date_from_db()"
   ]
  },
  {
   "cell_type": "code",
   "execution_count": 6,
   "id": "fea864b3-e586-488d-8ef3-5847b7b51874",
   "metadata": {},
   "outputs": [
    {
     "name": "stdout",
     "output_type": "stream",
     "text": [
      "{'name': 'Homebase', 'sizeOnDisk': 155648, 'empty': False}\n",
      "{'name': 'test_db', 'sizeOnDisk': 40960, 'empty': False}\n",
      "{'name': 'admin', 'sizeOnDisk': 315392, 'empty': False}\n",
      "{'name': 'local', 'sizeOnDisk': 3699089408, 'empty': False}\n",
      "budget_icons\n",
      "budget_history\n",
      "budget_current_week\n"
     ]
    }
   ],
   "source": [
    "mh.list_databases()\n",
    "mh.list_collections_in_db(\"Homebase\")"
   ]
  },
  {
   "cell_type": "code",
   "execution_count": 7,
   "id": "04578b35-d8d0-49e9-bfe7-1df4e40d533d",
   "metadata": {},
   "outputs": [
    {
     "name": "stdout",
     "output_type": "stream",
     "text": [
      "Item inserted\n"
     ]
    }
   ],
   "source": [
    "\n",
    "mh.insert_value(\"Homebase\", \"bills\", [{\n",
    "    \"basic-fit\": {'2023-06-19': 19.99},\n",
    "    \"orange\": {'2023-06-16': 15},\n",
    "    \"csn\": {'2023-08-31': 3953, '2023-11-30': 3953}\n",
    "}])"
   ]
  },
  {
   "cell_type": "code",
   "execution_count": 10,
   "id": "a492afbd-9a8b-43aa-b74a-4be2fd838923",
   "metadata": {},
   "outputs": [],
   "source": [
    "cat_to_pic = {\n",
    "    \"Efectivo y servicios bancarios\": \"bank.png\",\n",
    "    \"Ocio\": \"beach-chair.png\",\n",
    "    \"Compras\": \"bag.png\",\n",
    "    \"Hogar\": \"home.png\",\n",
    "    \"Transporte\": \"car.png\",\n",
    "    \"Salud y belleza\": \"heart.png\",\n",
    "    \"Nómina\": \"nomina.png\",\n",
    "    \"other income\": \"banknotes.png\",\n",
    "    \"Viajes\": \"plane.png\",\n",
    "    \"Educación y formación\": \"mortarboard.png\",\n",
    "    \"Asociaciones y organizaciones\": \"hand-shake.png\",\n",
    "    \"Administraciones públicas\": \"building.png\",\n",
    "    \"Pendiente de categorizar gastos\": \"clock.png\",\n",
    "    \"Pendiente de categorizar ingresos\": \"clock.png\",\n",
    "    \"Ingreso Bizum\": \"biz.png\"\n",
    "}"
   ]
  },
  {
   "cell_type": "code",
   "execution_count": 11,
   "id": "31afa28e-3651-44d6-9d27-c317caa66d49",
   "metadata": {},
   "outputs": [
    {
     "name": "stdout",
     "output_type": "stream",
     "text": [
      "Item inserted\n"
     ]
    }
   ],
   "source": [
    "mh.insert_value(\"Homebase\", \"budget_icons\", [cat_to_pic])"
   ]
  },
  {
   "cell_type": "code",
   "execution_count": 28,
   "id": "87d4a81c-ee2a-445b-a624-85223304b78e",
   "metadata": {},
   "outputs": [],
   "source": [
    "import datetime\n",
    "net_salary = 900\n",
    "remaining_weeks = [{'dates': [datetime.date(2023, 5, 29), datetime.date(2023, 6, 4)], 'remaining_days': 0}, {'dates': [datetime.date(2023, 6, 5), datetime.date(2023, 6, 11)], 'remaining_days': 6}, {'dates': [datetime.date(2023, 6, 12), datetime.date(2023, 6, 18)], 'remaining_days': 7}, {'dates': [datetime.date(2023, 6, 19), datetime.date(2023, 6, 25)], 'remaining_days': 7}, {'dates': [datetime.date(2023, 6, 26), datetime.date(2023, 7, 2)], 'remaining_days': 7}]"
   ]
  },
  {
   "cell_type": "code",
   "execution_count": 31,
   "id": "da3e6309-8134-422a-8a97-2ab93846f16d",
   "metadata": {},
   "outputs": [
    {
     "data": {
      "text/plain": [
       "[{'dates': [datetime.date(2023, 5, 29), datetime.date(2023, 6, 4)],\n",
       "  'remaining_days': 0,\n",
       "  'amount': 0.0},\n",
       " {'dates': [datetime.date(2023, 6, 5), datetime.date(2023, 6, 11)],\n",
       "  'remaining_days': 6,\n",
       "  'amount': 200.0},\n",
       " {'dates': [datetime.date(2023, 6, 12), datetime.date(2023, 6, 18)],\n",
       "  'remaining_days': 7,\n",
       "  'amount': 233.33},\n",
       " {'dates': [datetime.date(2023, 6, 19), datetime.date(2023, 6, 25)],\n",
       "  'remaining_days': 7,\n",
       "  'amount': 233.33},\n",
       " {'dates': [datetime.date(2023, 6, 26), datetime.date(2023, 7, 2)],\n",
       "  'remaining_days': 7,\n",
       "  'amount': 233.33}]"
      ]
     },
     "execution_count": 31,
     "metadata": {},
     "output_type": "execute_result"
    }
   ],
   "source": [
    "total_days = sum([x_sub.get(\"remaining_days\") for x_sub in remaining_weeks])\n",
    "\n",
    "for week in remaining_weeks:\n",
    "    week[\"amount\"] = round((net_salary / total_days) * week.get(\"remaining_days\"), 2)\n",
    "\n",
    "remaining_weeks"
   ]
  },
  {
   "cell_type": "code",
   "execution_count": 1,
   "id": "4fa34d9e-209b-4afe-970c-5d581ecc729e",
   "metadata": {},
   "outputs": [],
   "source": [
    "from BBVA_scraper import BBVAScraper\n",
    "bs = BBVAScraper(True)"
   ]
  },
  {
   "cell_type": "code",
   "execution_count": 3,
   "id": "ef5bbfb0-130f-4b5a-87f6-341f989e535c",
   "metadata": {},
   "outputs": [
    {
     "name": "stderr",
     "output_type": "stream",
     "text": [
      "\n",
      "\n",
      "====== WebDriver manager ======\n",
      "Current google-chrome version is 114.0.5735\n",
      "Get LATEST chromedriver version for 114.0.5735 google-chrome\n",
      "Driver [/Users/eliasmattson/.wdm/drivers/chromedriver/mac64/114.0.5735.90/chromedriver] found in cache\n"
     ]
    },
    {
     "data": {
      "text/plain": [
       "[{'Efectivo y servicios bancarios': 837.34,\n",
       "  'Compras': 53.96,\n",
       "  'Ocio': 44.6,\n",
       "  'Hogar': 26.62,\n",
       "  'Transporte': 7.87,\n",
       "  'Salud y belleza': 1.99,\n",
       "  'Ingreso Bizum': 15.5,\n",
       "  'other income': 15.5,\n",
       "  'date': '2023-06-01'},\n",
       " {'Efectivo y servicios bancarios': 1278.93,\n",
       "  'Ocio': 685.93,\n",
       "  'Compras': 511.77,\n",
       "  'Hogar': 75.54,\n",
       "  'Transporte': 27.35,\n",
       "  'Nómina': 1733.84,\n",
       "  'other income': 680.1200000000001,\n",
       "  'date': '2023-05-01'},\n",
       " {'Efectivo y servicios bancarios': 845.16,\n",
       "  'Compras': 688.21,\n",
       "  'Ocio': 271.22,\n",
       "  'Hogar': 118.24,\n",
       "  'Transporte': 49.99,\n",
       "  'Viajes': 28.47,\n",
       "  'Nómina': 1733.84,\n",
       "  'other income': 163.20000000000005,\n",
       "  'date': '2023-04-01'},\n",
       " {'Efectivo y servicios bancarios': 1501.24,\n",
       "  'Viajes': 665.83,\n",
       "  'Compras': 480.32,\n",
       "  'Ocio': 406.89,\n",
       "  'Transporte': 294.39,\n",
       "  'Hogar': 101.07,\n",
       "  'Educación y formación': 18.76,\n",
       "  'Salud y belleza': 3.3,\n",
       "  'Nómina': 1733.84,\n",
       "  'other income': 343.20000000000005,\n",
       "  'date': '2023-03-01'},\n",
       " {'Efectivo y servicios bancarios': 889.0,\n",
       "  'Ocio': 548.54,\n",
       "  'Compras': 434.82,\n",
       "  'Hogar': 110.05,\n",
       "  'Transporte': 14.76,\n",
       "  'Nómina': 3975.0,\n",
       "  'other income': 338.5799999999999,\n",
       "  'date': '2023-02-01'},\n",
       " {'Efectivo y servicios bancarios': 1162.0,\n",
       "  'Compras': 470.7,\n",
       "  'Ocio': 405.14,\n",
       "  'Hogar': 174.69,\n",
       "  'Transporte': 90.11,\n",
       "  'Educación y formación': 9.4,\n",
       "  'Salud y belleza': 4.65,\n",
       "  'Viajes': 3.3,\n",
       "  'Asociaciones y organizaciones': 0.35,\n",
       "  'Nómina': 1756.12,\n",
       "  'other income': 252.85000000000014,\n",
       "  'date': '2023-01-01'},\n",
       " {'Efectivo y servicios bancarios': 861.0,\n",
       "  'Compras': 309.19,\n",
       "  'Ocio': 305.98,\n",
       "  'Hogar': 127.61,\n",
       "  'Transporte': 50.92,\n",
       "  'Educación y formación': 9.37,\n",
       "  'Nómina': 1758.37,\n",
       "  'other income': 718.73,\n",
       "  'date': '2022-12-01'},\n",
       " {'Efectivo y servicios bancarios': 1223.94,\n",
       "  'Compras': 1148.1,\n",
       "  'Ocio': 353.06,\n",
       "  'Viajes': 296.42,\n",
       "  'Hogar': 108.06,\n",
       "  'Transporte': 20.1,\n",
       "  'Salud y belleza': 9.74,\n",
       "  'Educación y formación': 9.61,\n",
       "  'Nómina': 1758.37,\n",
       "  'other income': 86.05000000000018,\n",
       "  'date': '2022-11-01'},\n",
       " {'Efectivo y servicios bancarios': 869.0,\n",
       "  'Compras': 587.82,\n",
       "  'Ocio': 445.27,\n",
       "  'Hogar': 130.71,\n",
       "  'Transporte': 120.34,\n",
       "  'Educación y formación': 18.92,\n",
       "  'Viajes': 1.8,\n",
       "  'Nómina': 1758.37,\n",
       "  'other income': 824.81,\n",
       "  'date': '2022-10-01'},\n",
       " {'Ocio': 414.53,\n",
       "  'Efectivo y servicios bancarios': 372.67,\n",
       "  'Compras': 368.89,\n",
       "  'Hogar': 141.02,\n",
       "  'Transporte': 24.76,\n",
       "  'Viajes': 5.5,\n",
       "  'Nómina': 1758.37,\n",
       "  'other income': 45.600000000000136,\n",
       "  'date': '2022-09-01'},\n",
       " {'Efectivo y servicios bancarios': 1790.76,\n",
       "  'Ocio': 369.0,\n",
       "  'Compras': 176.79,\n",
       "  'Hogar': 126.75,\n",
       "  'Transporte': 84.52,\n",
       "  'Administraciones públicas': 19.4,\n",
       "  'Nómina': 1758.37,\n",
       "  'other income': 83.30000000000018,\n",
       "  'date': '2022-08-01'},\n",
       " {'Compras': 1771.38,\n",
       "  'Efectivo y servicios bancarios': 850.0,\n",
       "  'Ocio': 429.06,\n",
       "  'Hogar': 123.75,\n",
       "  'Transporte': 49.08,\n",
       "  'Salud y belleza': 17.9,\n",
       "  'Viajes': 3.85,\n",
       "  'Nómina': 2020.72,\n",
       "  'other income': 560.3999999999999,\n",
       "  'date': '2022-07-01'},\n",
       " {'Compras': 623.13,\n",
       "  'Ocio': 443.59,\n",
       "  'Hogar': 103.27,\n",
       "  'Educación y formación': 77.52,\n",
       "  'Transporte': 42.83,\n",
       "  'Efectivo y servicios bancarios': 18.0,\n",
       "  'Administraciones públicas': 9.0,\n",
       "  'Nómina': 1683.93,\n",
       "  'other income': 100.5,\n",
       "  'date': '2022-06-01'}]"
      ]
     },
     "execution_count": 3,
     "metadata": {},
     "output_type": "execute_result"
    }
   ],
   "source": [
    "bs.get_backlog_month_categories()"
   ]
  },
  {
   "cell_type": "code",
   "execution_count": null,
   "id": "af1f052c-a595-44d5-acfe-e19f58284c33",
   "metadata": {},
   "outputs": [],
   "source": []
  }
 ],
 "metadata": {
  "kernelspec": {
   "display_name": "Python 3 (ipykernel)",
   "language": "python",
   "name": "python3"
  },
  "language_info": {
   "codemirror_mode": {
    "name": "ipython",
    "version": 3
   },
   "file_extension": ".py",
   "mimetype": "text/x-python",
   "name": "python",
   "nbconvert_exporter": "python",
   "pygments_lexer": "ipython3",
   "version": "3.7.2"
  }
 },
 "nbformat": 4,
 "nbformat_minor": 5
}
