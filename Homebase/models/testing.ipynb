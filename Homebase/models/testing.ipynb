{
 "cells": [
  {
   "cell_type": "code",
   "execution_count": 1,
   "id": "52e8c5ea-906d-43bc-b2f8-02c03ca88709",
   "metadata": {},
   "outputs": [],
   "source": [
    "from mongo_handler import MongoHandler"
   ]
  },
  {
   "cell_type": "code",
   "execution_count": 2,
   "id": "8a6d0c1a-cc6c-4719-8f50-6146062be5a5",
   "metadata": {},
   "outputs": [],
   "source": [
    "mh = MongoHandler()"
   ]
  },
  {
   "cell_type": "code",
   "execution_count": 10,
   "id": "fea864b3-e586-488d-8ef3-5847b7b51874",
   "metadata": {},
   "outputs": [
    {
     "name": "stdout",
     "output_type": "stream",
     "text": [
      "{'name': 'test_db', 'sizeOnDisk': 8192, 'empty': False}\n",
      "{'name': 'admin', 'sizeOnDisk': 315392, 'empty': False}\n",
      "{'name': 'local', 'sizeOnDisk': 3699089408, 'empty': False}\n"
     ]
    }
   ],
   "source": [
    "mh.list_databases()"
   ]
  },
  {
   "cell_type": "code",
   "execution_count": 9,
   "id": "deca719e-c397-4976-a4ef-dde4f688082f",
   "metadata": {},
   "outputs": [
    {
     "name": "stdout",
     "output_type": "stream",
     "text": [
      "Item inserted\n"
     ]
    }
   ],
   "source": [
    "mh.insert_value(\"test_db\", \"test_collection\", [{\"1\": 1}])"
   ]
  },
  {
   "cell_type": "code",
   "execution_count": null,
   "id": "1130ba0c-6ec5-4166-a731-0a5a27145983",
   "metadata": {},
   "outputs": [],
   "source": []
  }
 ],
 "metadata": {
  "kernelspec": {
   "display_name": "Python 3 (ipykernel)",
   "language": "python",
   "name": "python3"
  },
  "language_info": {
   "codemirror_mode": {
    "name": "ipython",
    "version": 3
   },
   "file_extension": ".py",
   "mimetype": "text/x-python",
   "name": "python",
   "nbconvert_exporter": "python",
   "pygments_lexer": "ipython3",
   "version": "3.7.2"
  }
 },
 "nbformat": 4,
 "nbformat_minor": 5
}
