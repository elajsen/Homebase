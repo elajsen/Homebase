{
 "cells": [
  {
   "cell_type": "code",
   "execution_count": 8,
   "id": "62538e05-f593-450e-a391-402cac3d73ea",
   "metadata": {},
   "outputs": [],
   "source": [
    "import django, os\n",
    "from django.conf import settings\n",
    "import pandas as pd\n",
    "\n",
    "os.environ['DJANGO_SETTINGS_MODULE'] = 'Homebase.settings'\n",
    "django.setup()\n",
    "\n",
    "from models.mongo_handler import MongoHandler"
   ]
  },
  {
   "cell_type": "code",
   "execution_count": 35,
   "id": "ccdd1c88-3ca2-47b2-b784-003e7bc572fc",
   "metadata": {},
   "outputs": [],
   "source": [
    "mh = MongoHandler()"
   ]
  }
 ],
 "metadata": {
  "kernelspec": {
   "display_name": "Python 3 (ipykernel)",
   "language": "python",
   "name": "python3"
  },
  "language_info": {
   "codemirror_mode": {
    "name": "ipython",
    "version": 3
   },
   "file_extension": ".py",
   "mimetype": "text/x-python",
   "name": "python",
   "nbconvert_exporter": "python",
   "pygments_lexer": "ipython3",
   "version": "3.7.2"
  }
 },
 "nbformat": 4,
 "nbformat_minor": 5
}
