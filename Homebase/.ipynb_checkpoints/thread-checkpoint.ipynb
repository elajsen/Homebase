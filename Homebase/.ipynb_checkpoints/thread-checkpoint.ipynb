{
 "cells": [
  {
   "cell_type": "code",
   "execution_count": 1,
   "id": "b17268b9-29b7-44a5-ae3c-6f0fa4bce85b",
   "metadata": {
    "tags": []
   },
   "outputs": [],
   "source": [
    "import django, os, json, time, re\n",
    "from datetime import datetime, date\n",
    "from dateutil.relativedelta import relativedelta\n",
    "from selenium.webdriver.common.by import By\n",
    "from django.conf import settings\n",
    "from selenium.webdriver.support import expected_conditions as EC\n",
    "\n",
    "import pandas as pd\n",
    "import numpy as np\n",
    "\n",
    "os.environ['DJANGO_SETTINGS_MODULE'] = 'Homebase.settings'\n",
    "django.setup()"
   ]
  },
  {
   "cell_type": "code",
   "execution_count": 2,
   "id": "5fb68d66-4d59-4fe6-8f1d-c0007cb54245",
   "metadata": {},
   "outputs": [
    {
     "ename": "SyntaxError",
     "evalue": "invalid syntax (time_stats.py, line 61)",
     "output_type": "error",
     "traceback": [
      "Traceback \u001b[0;36m(most recent call last)\u001b[0m:\n",
      "  File \u001b[1;32m\"/Library/Frameworks/Python.framework/Versions/3.7/lib/python3.7/site-packages/IPython/core/interactiveshell.py\"\u001b[0m, line \u001b[1;32m3441\u001b[0m, in \u001b[1;35mrun_code\u001b[0m\n    exec(code_obj, self.user_global_ns, self.user_ns)\n",
      "  File \u001b[1;32m\"/var/folders/pv/xvcrd5c54plg__2hktlzx1680000gn/T/ipykernel_14539/1450210202.py\"\u001b[0m, line \u001b[1;32m4\u001b[0m, in \u001b[1;35m<module>\u001b[0m\n    from models.budget.month import Month\n",
      "  File \u001b[1;32m\"/Users/eliasmattson/Programming/Homebase/Homebase/models/budget/month.py\"\u001b[0m, line \u001b[1;32m2\u001b[0m, in \u001b[1;35m<module>\u001b[0m\n    from models.budget.week import Week\n",
      "\u001b[0;36m  File \u001b[0;32m\"/Users/eliasmattson/Programming/Homebase/Homebase/models/budget/week.py\"\u001b[0;36m, line \u001b[0;32m4\u001b[0;36m, in \u001b[0;35m<module>\u001b[0;36m\u001b[0m\n\u001b[0;31m    from models.budget.time_stats import TimeframeStatistics\u001b[0m\n",
      "\u001b[0;36m  File \u001b[0;32m\"/Users/eliasmattson/Programming/Homebase/Homebase/models/budget/time_stats.py\"\u001b[0;36m, line \u001b[0;32m61\u001b[0m\n\u001b[0;31m    transactions.append(self.)\u001b[0m\n\u001b[0m                             ^\u001b[0m\n\u001b[0;31mSyntaxError\u001b[0m\u001b[0;31m:\u001b[0m invalid syntax\n"
     ]
    }
   ],
   "source": [
    "from models.mongo_handler import MongoHandler\n",
    "from models.budget_handler import BudgetHandler\n",
    "from models.BBVA_scraper import BBVAScraper\n",
    "from models.budget.month import Month\n",
    "from models.budget.year import Year\n",
    "from models.budget.person import Person\n",
    "from models.requests.request_utils import get_request\n",
    "from models.utils.date_utils import DateUtils\n",
    "mh = MongoHandler()\n",
    "bh = BudgetHandler()\n",
    "s=BBVAScraper(False)"
   ]
  },
  {
   "cell_type": "code",
   "execution_count": null,
   "id": "1dc42f36-dd39-43dc-8484-0b82f0c8f1a0",
   "metadata": {},
   "outputs": [],
   "source": [
    "m = Month(\"2024-04-14\")\n",
    "m1 = Month(\"2024-03-31\")\n",
    "y = Year(\"2024-01-01\")"
   ]
  },
  {
   "cell_type": "code",
   "execution_count": null,
   "id": "e7f18577-a2ac-4b85-a980-55bada6b220b",
   "metadata": {},
   "outputs": [],
   "source": [
    "m._income_and_spending_from_month(None, None)"
   ]
  },
  {
   "cell_type": "code",
   "execution_count": 6,
   "id": "411ce5bd-cafa-4732-8892-b5f08adb7508",
   "metadata": {},
   "outputs": [
    {
     "data": {
      "text/plain": [
       "[{'_id': ObjectId('6607ffbf4d17b62ff39a78ea'),\n",
       "  'Efectivo y servicios bancarios': 877.25,\n",
       "  'Compras': 540.74,\n",
       "  'Ocio': 446.23,\n",
       "  'Viajes': 238.25,\n",
       "  'Hogar': 71.67,\n",
       "  'Transporte': 29.79,\n",
       "  'Nómina': 2477.89,\n",
       "  'other income': 262.2,\n",
       "  'date': '2024-03-01',\n",
       "  'data_time': '2024-03-30 13:04:15'}]"
      ]
     },
     "execution_count": 6,
     "metadata": {},
     "output_type": "execute_result"
    }
   ],
   "source": [
    "m1.categories"
   ]
  },
  {
   "cell_type": "code",
   "execution_count": 18,
   "id": "6b061daa-e2b6-495b-af54-212693e7784f",
   "metadata": {},
   "outputs": [
    {
     "data": {
      "text/plain": [
       "{'_id': ObjectId('65e5c4864e15dffa1ded35f5'),\n",
       " 'Efectivo y servicios bancarios': 942.46,\n",
       " 'Ocio': 532.48,\n",
       " 'Compras': 494.75,\n",
       " 'Viajes': 223.9,\n",
       " 'Hogar': 68.51,\n",
       " 'Transporte': 63.16,\n",
       " 'Nómina': 2477.89,\n",
       " 'other income': 177.6,\n",
       " 'date': '2024-01-01',\n",
       " 'data_time': '2024-03-04 13:54:30'}"
      ]
     },
     "execution_count": 18,
     "metadata": {},
     "output_type": "execute_result"
    }
   ],
   "source": [
    "y.categories\n",
    "\n",
    "def get_previous_month_categories(date):\n",
    "    prev_date = str(DateUtils.string_to_datetime(date) - relativedelta(months=1))\n",
    "    for category in y.categories:\n",
    "        if category[\"date\"] == prev_date:\n",
    "            return category\n",
    "    \n",
    "    return mh.get_categories_month(prev_date)\n",
    "\n",
    "get_previous_month_categories(y.categories[0][\"date\"])"
   ]
  },
  {
   "cell_type": "code",
   "execution_count": 5,
   "id": "d7873947-67e4-418b-9995-c8313ebfbb5e",
   "metadata": {},
   "outputs": [
    {
     "data": {
      "text/plain": [
       "[{'income': [{'amount': 2477.89,\n",
       "    'name': 'Nómina',\n",
       "    'icon': 'nomina.png',\n",
       "    'diff': 0.0},\n",
       "   {'amount': 310.8,\n",
       "    'name': 'other income',\n",
       "    'icon': 'banknotes.png',\n",
       "    'diff': 75.0}],\n",
       "  'spending': [{'amount': 1430.36,\n",
       "    'name': 'Efectivo y servicios bancarios',\n",
       "    'icon': 'bank.png',\n",
       "    'diff': 51.77},\n",
       "   {'amount': 715.68,\n",
       "    'name': 'Ocio',\n",
       "    'icon': 'beach-chair.png',\n",
       "    'diff': 34.41},\n",
       "   {'amount': 359.83, 'name': 'Compras', 'icon': 'bag.png', 'diff': -27.27},\n",
       "   {'amount': 250.63, 'name': 'Hogar', 'icon': 'home.png', 'diff': 265.83},\n",
       "   {'amount': 9.22, 'name': 'Transporte', 'icon': 'car.png', 'diff': -85.4}],\n",
       "  'date': '2024-02-01'},\n",
       " {'income': [{'amount': 2477.89,\n",
       "    'name': 'Nómina',\n",
       "    'icon': 'nomina.png',\n",
       "    'diff': -23.0},\n",
       "   {'amount': 177.6,\n",
       "    'name': 'other income',\n",
       "    'icon': 'banknotes.png',\n",
       "    'diff': -70.16}],\n",
       "  'spending': [{'amount': 942.46,\n",
       "    'name': 'Efectivo y servicios bancarios',\n",
       "    'icon': 'bank.png',\n",
       "    'diff': -1.37},\n",
       "   {'amount': 532.48,\n",
       "    'name': 'Ocio',\n",
       "    'icon': 'beach-chair.png',\n",
       "    'diff': 15.45},\n",
       "   {'amount': 494.75, 'name': 'Compras', 'icon': 'bag.png', 'diff': 83.65},\n",
       "   {'amount': 223.9, 'name': 'Viajes', 'icon': 'plane.png', 'diff': 82.92},\n",
       "   {'amount': 68.51, 'name': 'Hogar', 'icon': 'home.png', 'diff': -31.49},\n",
       "   {'amount': 63.16, 'name': 'Transporte', 'icon': 'car.png', 'diff': 352.11}],\n",
       "  'date': '2024-01-01'},\n",
       " {'income': [{'amount': 2477.89,\n",
       "    'name': 'Nómina',\n",
       "    'icon': 'nomina.png',\n",
       "    'diff': 0.0},\n",
       "   {'amount': 223.2,\n",
       "    'name': 'other income',\n",
       "    'icon': 'banknotes.png',\n",
       "    'diff': -28.19}],\n",
       "  'spending': [{'amount': 872.25,\n",
       "    'name': 'Efectivo y servicios bancarios',\n",
       "    'icon': 'bank.png',\n",
       "    'diff': -39.02},\n",
       "   {'amount': 513.54, 'name': 'Compras', 'icon': 'bag.png', 'diff': 42.72},\n",
       "   {'amount': 354.43,\n",
       "    'name': 'Ocio',\n",
       "    'icon': 'beach-chair.png',\n",
       "    'diff': -50.48},\n",
       "   {'amount': 238.25, 'name': 'Viajes', 'icon': 'plane.png', 'diff': 0},\n",
       "   {'amount': 61.67, 'name': 'Hogar', 'icon': 'home.png', 'diff': -75.39},\n",
       "   {'amount': 29.79, 'name': 'Transporte', 'icon': 'car.png', 'diff': 223.1},\n",
       "   {'amount': 19.99, 'name': 'Retentions', 'icon': '', 'diff': 0}],\n",
       "  'date': '2024-03-01'}]"
      ]
     },
     "execution_count": 5,
     "metadata": {},
     "output_type": "execute_result"
    }
   ],
   "source": [
    "y.transactions_by_category_with_change"
   ]
  },
  {
   "cell_type": "code",
   "execution_count": null,
   "id": "1fdab19a-f3f1-40e6-9bf3-0cd29965fd0a",
   "metadata": {},
   "outputs": [],
   "source": []
  }
 ],
 "metadata": {
  "kernelspec": {
   "display_name": "Python 3 (ipykernel)",
   "language": "python",
   "name": "python3"
  },
  "language_info": {
   "codemirror_mode": {
    "name": "ipython",
    "version": 3
   },
   "file_extension": ".py",
   "mimetype": "text/x-python",
   "name": "python",
   "nbconvert_exporter": "python",
   "pygments_lexer": "ipython3",
   "version": "3.7.2"
  }
 },
 "nbformat": 4,
 "nbformat_minor": 5
}
