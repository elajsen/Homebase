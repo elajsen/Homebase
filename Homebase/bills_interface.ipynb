{
 "cells": [
  {
   "cell_type": "code",
   "execution_count": 5,
   "id": "3ca7635a-6887-4d51-b87c-1a1502b46568",
   "metadata": {},
   "outputs": [],
   "source": [
    "import django, os\n",
    "from django.conf import settings\n",
    "\n",
    "os.environ['DJANGO_SETTINGS_MODULE'] = 'Homebase.settings'\n",
    "django.setup()"
   ]
  },
  {
   "cell_type": "code",
   "execution_count": 6,
   "id": "8e1906e3-05e0-495c-91d8-77ee9d6cec66",
   "metadata": {},
   "outputs": [],
   "source": [
    "from models.mongo_handler import MongoHandler\n",
    "mh = MongoHandler()"
   ]
  },
  {
   "cell_type": "code",
   "execution_count": 7,
   "id": "bb2a99a1-d4e1-463a-81cc-a49275088687",
   "metadata": {},
   "outputs": [
    {
     "data": {
      "text/plain": [
       "{'_id': ObjectId('65fdae91b9cf53435bbe208f'),\n",
       " 'basic-fit': {'2023-06-19': 19.99,\n",
       "  '2023-07-17': 19.99,\n",
       "  '2023-08-14': 19.99,\n",
       "  '2023-09-11': 19.99,\n",
       "  '2023-10-09': 19.99,\n",
       "  '2023-11-06': 19.99,\n",
       "  '2023-12-04': 19.99,\n",
       "  '2024-02-26': 19.99,\n",
       "  '2024-03-25': 19.99,\n",
       "  '2024-04-22': 20,\n",
       "  '2024-05-20': 20},\n",
       " 'orange': {'2023-06-16': 15,\n",
       "  '2023-07-14': 15,\n",
       "  '2023-08-11': 15,\n",
       "  '2023-09-08': 15,\n",
       "  '2023-10-06': 15,\n",
       "  '2023-12-01': 15,\n",
       "  '2024-02-27': 15,\n",
       "  '2024-03-26': 15,\n",
       "  '2024-04-23': 15},\n",
       " 'csn': {'2023-08-31': 341,\n",
       "  '2023-11-30': 341,\n",
       "  '2024-04-30': 26,\n",
       "  '2024-05-31': 482,\n",
       "  '2024-08-30': 482,\n",
       "  '2024-11-29': 482,\n",
       "  '2024-06-28': 26},\n",
       " 'data_time': '2024-05-05 15:52:59',\n",
       " 'tarjeta metro': {'2024-04-01': 20}}"
      ]
     },
     "execution_count": 7,
     "metadata": {},
     "output_type": "execute_result"
    }
   ],
   "source": [
    "mh.get_bills()"
   ]
  },
  {
   "cell_type": "markdown",
   "id": "a3c4fbda-9a18-4095-a9bb-46ede4c79670",
   "metadata": {},
   "source": [
    "### Add another category"
   ]
  },
  {
   "cell_type": "code",
   "execution_count": 38,
   "id": "990e005f-4acd-4355-8df7-a196d2d1ad76",
   "metadata": {},
   "outputs": [
    {
     "ename": "Warning",
     "evalue": "Bill category already exists",
     "output_type": "error",
     "traceback": [
      "\u001b[0;31m---------------------------------------------------------------------------\u001b[0m",
      "\u001b[0;31mWarning\u001b[0m                                   Traceback (most recent call last)",
      "\u001b[0;32m/var/folders/pv/xvcrd5c54plg__2hktlzx1680000gn/T/ipykernel_17823/3338933234.py\u001b[0m in \u001b[0;36m<module>\u001b[0;34m\u001b[0m\n\u001b[1;32m      3\u001b[0m \u001b[0mbills_dict\u001b[0m \u001b[0;34m=\u001b[0m \u001b[0mmh\u001b[0m\u001b[0;34m.\u001b[0m\u001b[0mget_bills\u001b[0m\u001b[0;34m(\u001b[0m\u001b[0;34m)\u001b[0m\u001b[0;34m\u001b[0m\u001b[0;34m\u001b[0m\u001b[0m\n\u001b[1;32m      4\u001b[0m \u001b[0;32mif\u001b[0m \u001b[0mcategory_to_add\u001b[0m \u001b[0;32min\u001b[0m \u001b[0mbills_dict\u001b[0m\u001b[0;34m.\u001b[0m\u001b[0mkeys\u001b[0m\u001b[0;34m(\u001b[0m\u001b[0;34m)\u001b[0m\u001b[0;34m:\u001b[0m\u001b[0;34m\u001b[0m\u001b[0;34m\u001b[0m\u001b[0m\n\u001b[0;32m----> 5\u001b[0;31m     \u001b[0;32mraise\u001b[0m \u001b[0mWarning\u001b[0m\u001b[0;34m(\u001b[0m\u001b[0;34m\"Bill category already exists\"\u001b[0m\u001b[0;34m)\u001b[0m\u001b[0;34m\u001b[0m\u001b[0;34m\u001b[0m\u001b[0m\n\u001b[0m\u001b[1;32m      6\u001b[0m \u001b[0mbills_dict\u001b[0m\u001b[0;34m[\u001b[0m\u001b[0mcategory_to_add\u001b[0m\u001b[0;34m]\u001b[0m \u001b[0;34m=\u001b[0m \u001b[0;34m{\u001b[0m\u001b[0;34m}\u001b[0m\u001b[0;34m\u001b[0m\u001b[0;34m\u001b[0m\u001b[0m\n\u001b[1;32m      7\u001b[0m \u001b[0;34m\u001b[0m\u001b[0m\n",
      "\u001b[0;31mWarning\u001b[0m: Bill category already exists"
     ]
    }
   ],
   "source": [
    "category_to_add = \"basic-fit\"\n",
    "\n",
    "bills_dict = mh.get_bills()\n",
    "if category_to_add in bills_dict.keys():\n",
    "    raise Warning(\"Bill category already exists\")\n",
    "bills_dict[category_to_add] = {}\n",
    "\n",
    "mh.delete_collection(mh.db_name, mh.bills)\n",
    "mh.insert_value(mh.db_name, mh.bills, [bills_dict])\n",
    "\n",
    "assert category_to_add in mh.get_bills().keys()"
   ]
  },
  {
   "cell_type": "markdown",
   "id": "bb487435-bc08-4b2b-9d80-c529ca2bf639",
   "metadata": {},
   "source": [
    "### Add bill"
   ]
  },
  {
   "cell_type": "code",
   "execution_count": 4,
   "id": "e01cac3e-c450-460b-affa-c06464532c02",
   "metadata": {},
   "outputs": [
    {
     "name": "stdout",
     "output_type": "stream",
     "text": [
      "Dropped collection bills\n",
      "Item inserted\n"
     ]
    }
   ],
   "source": [
    "amount = 20\n",
    "date = \"2024-05-20\"\n",
    "category = \"basic-fit\"\n",
    "\n",
    "bills_dict = mh.get_bills()\n",
    "assert date not in bills_dict[category].keys(), \"date already filled\"\n",
    "bills_dict[category][date] = amount\n",
    "\n",
    "mh.delete_collection(mh.db_name, mh.bills)\n",
    "mh.insert_value(mh.db_name, mh.bills, [bills_dict])"
   ]
  },
  {
   "cell_type": "code",
   "execution_count": null,
   "id": "152f137e-be68-4194-b1e6-cac6089741d8",
   "metadata": {},
   "outputs": [],
   "source": []
  }
 ],
 "metadata": {
  "kernelspec": {
   "display_name": "Python 3 (ipykernel)",
   "language": "python",
   "name": "python3"
  },
  "language_info": {
   "codemirror_mode": {
    "name": "ipython",
    "version": 3
   },
   "file_extension": ".py",
   "mimetype": "text/x-python",
   "name": "python",
   "nbconvert_exporter": "python",
   "pygments_lexer": "ipython3",
   "version": "3.7.2"
  }
 },
 "nbformat": 4,
 "nbformat_minor": 5
}
