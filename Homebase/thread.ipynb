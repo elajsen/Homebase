{
 "cells": [
  {
   "cell_type": "code",
   "execution_count": 2,
   "id": "dcc0bfbd-83cb-445e-9e3b-e65ed5592a68",
   "metadata": {},
   "outputs": [],
   "source": [
    "from models.mongo_handler import MongoHandler\n",
    "import threading, time"
   ]
  },
  {
   "cell_type": "code",
   "execution_count": 1,
   "id": "8c40c3b5-d592-48c4-a214-553b5a2d98e8",
   "metadata": {},
   "outputs": [],
   "source": [
    "from models.budget_handler import BudgetHandler\n",
    "bh = BudgetHandler()"
   ]
  },
  {
   "cell_type": "code",
   "execution_count": 2,
   "id": "6939a9f4-b263-4d4c-bf31-26f76864e2e9",
   "metadata": {},
   "outputs": [
    {
     "name": "stderr",
     "output_type": "stream",
     "text": [
      "\n",
      "\n",
      "====== WebDriver manager ======\n",
      "Current google-chrome version is 114.0.5735\n",
      "Get LATEST chromedriver version for 114.0.5735 google-chrome\n",
      "Driver [/Users/eliasmattson/.wdm/drivers/chromedriver/mac64/114.0.5735.90/chromedriver] found in cache\n",
      "/Library/Frameworks/Python.framework/Versions/3.7/lib/python3.7/site-packages/selenium/webdriver/remote/webelement.py:341: UserWarning: find_element_by_tag_name is deprecated. Please use find_element(by=By.TAG_NAME, value=name) instead\n",
      "  warnings.warn(\"find_element_by_tag_name is deprecated. Please use find_element(by=By.TAG_NAME, value=name) instead\")\n",
      "/Library/Frameworks/Python.framework/Versions/3.7/lib/python3.7/site-packages/selenium/webdriver/remote/webelement.py:393: UserWarning: find_element_by_xpath is deprecated. Please use find_element(by=By.XPATH, value=xpath) instead\n",
      "  warnings.warn(\"find_element_by_xpath is deprecated. Please use find_element(by=By.XPATH, value=xpath) instead\")\n"
     ]
    },
    {
     "name": "stdout",
     "output_type": "stream",
     "text": [
      "Item inserted\n"
     ]
    }
   ],
   "source": [
    "bh.update_monthly_budget()"
   ]
  },
  {
   "cell_type": "code",
   "execution_count": null,
   "id": "4c87c9ec-df0a-43af-ad09-9246e818506f",
   "metadata": {},
   "outputs": [],
   "source": []
  }
 ],
 "metadata": {
  "kernelspec": {
   "display_name": "Python 3 (ipykernel)",
   "language": "python",
   "name": "python3"
  },
  "language_info": {
   "codemirror_mode": {
    "name": "ipython",
    "version": 3
   },
   "file_extension": ".py",
   "mimetype": "text/x-python",
   "name": "python",
   "nbconvert_exporter": "python",
   "pygments_lexer": "ipython3",
   "version": "3.7.2"
  }
 },
 "nbformat": 4,
 "nbformat_minor": 5
}
