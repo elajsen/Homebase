{
 "cells": [
  {
   "cell_type": "code",
   "execution_count": 1,
   "id": "b17268b9-29b7-44a5-ae3c-6f0fa4bce85b",
   "metadata": {
    "tags": []
   },
   "outputs": [],
   "source": [
    "import django, os, json, time, re\n",
    "from datetime import datetime, date\n",
    "from dateutil.relativedelta import relativedelta\n",
    "from selenium.webdriver.common.by import By\n",
    "from django.conf import settings\n",
    "\n",
    "from selenium.webdriver.support import expected_conditions as EC\n",
    "\n",
    "import pandas as pd\n",
    "import numpy as np\n",
    "\n",
    "os.environ['DJANGO_SETTINGS_MODULE'] = 'Homebase.settings'\n",
    "django.setup()"
   ]
  },
  {
   "cell_type": "code",
   "execution_count": 2,
   "id": "5fb68d66-4d59-4fe6-8f1d-c0007cb54245",
   "metadata": {},
   "outputs": [],
   "source": [
    "from models.mongo_handler import MongoHandler\n",
    "from models.budget_handler import BudgetHandler\n",
    "from models.BBVA_scraper import BBVAScraper\n",
    "mh = MongoHandler()\n",
    "bh = BudgetHandler()\n",
    "s=BBVAScraper(False)"
   ]
  },
  {
   "cell_type": "code",
   "execution_count": 3,
   "id": "934e8e5b-4277-485d-9b72-0101b6072db5",
   "metadata": {},
   "outputs": [],
   "source": [
    "retention = 47.77"
   ]
  },
  {
   "cell_type": "code",
   "execution_count": 4,
   "id": "478f4c43-222d-4332-b567-62da91e2c4b6",
   "metadata": {},
   "outputs": [
    {
     "name": "stdout",
     "output_type": "stream",
     "text": [
      "Accepted cookies\n",
      "Couldn't switch to iframe\n"
     ]
    },
    {
     "name": "stderr",
     "output_type": "stream",
     "text": [
      "/Library/Frameworks/Python.framework/Versions/3.7/lib/python3.7/site-packages/selenium/webdriver/remote/webelement.py:341: UserWarning: find_element_by_tag_name is deprecated. Please use find_element(by=By.TAG_NAME, value=name) instead\n",
      "  warnings.warn(\"find_element_by_tag_name is deprecated. Please use find_element(by=By.TAG_NAME, value=name) instead\")\n",
      "/Library/Frameworks/Python.framework/Versions/3.7/lib/python3.7/site-packages/selenium/webdriver/remote/webelement.py:393: UserWarning: find_element_by_xpath is deprecated. Please use find_element(by=By.XPATH, value=xpath) instead\n",
      "  warnings.warn(\"find_element_by_xpath is deprecated. Please use find_element(by=By.XPATH, value=xpath) instead\")\n"
     ]
    },
    {
     "name": "stdout",
     "output_type": "stream",
     "text": [
      "retention: 47.52\n"
     ]
    },
    {
     "data": {
      "text/plain": [
       "{'Efectivo y servicios bancarios': 867.5,\n",
       " 'Compras': 150.98,\n",
       " 'Ocio': 77.25,\n",
       " 'Hogar': 65.2,\n",
       " 'Transporte': 6.1,\n",
       " 'Viajes': 2.31,\n",
       " 'Ingreso Bizum': 29.0,\n",
       " 'other income': 29.0,\n",
       " 'retentions': 47.52}"
      ]
     },
     "execution_count": 4,
     "metadata": {},
     "output_type": "execute_result"
    }
   ],
   "source": [
    "s.get_current_month_categories()"
   ]
  },
  {
   "cell_type": "code",
   "execution_count": null,
   "id": "98be988d-cde6-4f84-924b-cc8cb85019c5",
   "metadata": {},
   "outputs": [],
   "source": []
  }
 ],
 "metadata": {
  "kernelspec": {
   "display_name": "Python 3 (ipykernel)",
   "language": "python",
   "name": "python3"
  },
  "language_info": {
   "codemirror_mode": {
    "name": "ipython",
    "version": 3
   },
   "file_extension": ".py",
   "mimetype": "text/x-python",
   "name": "python",
   "nbconvert_exporter": "python",
   "pygments_lexer": "ipython3",
   "version": "3.7.2"
  }
 },
 "nbformat": 4,
 "nbformat_minor": 5
}
