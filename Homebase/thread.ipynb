{
 "cells": [
  {
   "cell_type": "code",
   "execution_count": 1,
   "id": "b17268b9-29b7-44a5-ae3c-6f0fa4bce85b",
   "metadata": {},
   "outputs": [],
   "source": [
    "import django, os, json, time, re\n",
    "from datetime import datetime, date\n",
    "from selenium.webdriver.common.by import By\n",
    "from django.conf import settings\n",
    "\n",
    "from selenium.webdriver.support import expected_conditions as EC\n",
    "\n",
    "import pandas as pd\n",
    "\n",
    "os.environ['DJANGO_SETTINGS_MODULE'] = 'Homebase.settings'\n",
    "django.setup()"
   ]
  },
  {
   "cell_type": "code",
   "execution_count": 2,
   "id": "521ad09b-581b-4d48-80db-430bd495c193",
   "metadata": {},
   "outputs": [],
   "source": [
    "def find_element_with_wait(by=None, value=None):\n",
    "    element = WebDriverWait(driver, 10).until(\n",
    "        EC.presence_of_element_located((by, value))\n",
    "    )\n",
    "    return element\n",
    "\n",
    "def find_elements_with_wait(by=None, value=None):\n",
    "    element = WebDriverWait(driver, 10).until(\n",
    "        EC.presence_of_elements_located((by, value))\n",
    "    )\n",
    "    return element"
   ]
  },
  {
   "cell_type": "code",
   "execution_count": 3,
   "id": "796f8f49-ff96-4ace-806e-8bb6c32d9121",
   "metadata": {},
   "outputs": [],
   "source": [
    "month_translation_dict = {\n",
    "    \"DIC\": 12,\n",
    "    \"NOV\": 11,\n",
    "    \"OCT\": 10,\n",
    "    \"SEP\": 9,\n",
    "    \"AGO\": 8,\n",
    "    \"JUL\": 7,\n",
    "    \"JUN\": 6,\n",
    "    \"MAY\": 5,\n",
    "    \"ABR\": 4,\n",
    "    \"MAR\": 3,\n",
    "    \"FEB\": 2,\n",
    "    \"ENE\": 1\n",
    "}"
   ]
  },
  {
   "cell_type": "code",
   "execution_count": 4,
   "id": "c3475337-1902-44c3-894a-97615cb08b6e",
   "metadata": {},
   "outputs": [],
   "source": [
    "# Load the CREDENTIALS configuration\n",
    "with open(\"credentials.conf\") as f:\n",
    "    credentials = json.load(f)\n",
    "\n",
    "# Assign the CREDENTIALS to settings\n",
    "settings.CREDENTIALS = credentials\n"
   ]
  },
  {
   "cell_type": "code",
   "execution_count": 5,
   "id": "dcc0bfbd-83cb-445e-9e3b-e65ed5592a68",
   "metadata": {},
   "outputs": [],
   "source": [
    "from models.BBVA_scraper import BBVAScraper\n",
    "bs = BBVAScraper()"
   ]
  },
  {
   "cell_type": "code",
   "execution_count": 6,
   "id": "4c87c9ec-df0a-43af-ad09-9246e818506f",
   "metadata": {},
   "outputs": [
    {
     "name": "stderr",
     "output_type": "stream",
     "text": [
      "\n",
      "\n",
      "====== WebDriver manager ======\n",
      "Current google-chrome version is 114.0.5735\n",
      "Get LATEST chromedriver version for 114.0.5735 google-chrome\n",
      "Driver [/Users/eliasmattson/.wdm/drivers/chromedriver/mac64/114.0.5735.90/chromedriver] found in cache\n"
     ]
    }
   ],
   "source": [
    "bs.driver = bs.get_driver(False)"
   ]
  },
  {
   "cell_type": "code",
   "execution_count": 7,
   "id": "df93afe6-dc6e-40a5-ba4b-43ad568806b8",
   "metadata": {},
   "outputs": [],
   "source": [
    "bs.driver.get(\"https://www.bbva.es/\")"
   ]
  },
  {
   "cell_type": "code",
   "execution_count": 8,
   "id": "399959c1-58d8-4983-94b1-563bb3cf4eeb",
   "metadata": {},
   "outputs": [],
   "source": [
    "bs.log_in()"
   ]
  },
  {
   "cell_type": "code",
   "execution_count": 9,
   "id": "b19e4b61-d348-4125-8820-e19df2c94592",
   "metadata": {},
   "outputs": [],
   "source": [
    "# Go to movements\n",
    "bs.close_modal()"
   ]
  },
  {
   "cell_type": "code",
   "execution_count": 14,
   "id": "fa42c5d8-78d3-46bd-9e74-22918e8842fd",
   "metadata": {},
   "outputs": [],
   "source": [
    "start = bs.driver.current_url.split(\"#\")[0]\n",
    "bs.driver.get(start + \"#cuentas/1/ficha\")"
   ]
  },
  {
   "cell_type": "code",
   "execution_count": 15,
   "id": "5c6e5d7c-cc41-470f-af3a-1ea0507cf0cf",
   "metadata": {},
   "outputs": [],
   "source": [
    "tbody = bs.find_element_with_wait(by=By.TAG_NAME, value=\"tbody\")"
   ]
  },
  {
   "cell_type": "code",
   "execution_count": 16,
   "id": "3bcd2ab9-ef7f-4589-9c12-1fe637111717",
   "metadata": {},
   "outputs": [],
   "source": [
    "movement_elements = tbody.find_elements(by=By.XPATH, value=\".//tr[@role='row']\")"
   ]
  },
  {
   "cell_type": "code",
   "execution_count": 17,
   "id": "54aa7a90-2f83-4e2f-bc95-b3034d253e05",
   "metadata": {},
   "outputs": [],
   "source": [
    "def get_date_from_mov_element(mov_element):\n",
    "    date_el = mov_element.find_element(by=By.XPATH, value=\".//div[@class='contieneFechas']\")\\\n",
    "        .find_element(by=By.TAG_NAME, value=\"b\")\n",
    "    \n",
    "    span_elements = date_el.find_elements(by=By.TAG_NAME, value=\"span\")\n",
    "    day = int(span_elements[0].get_attribute(\"innerHTML\")\\\n",
    "            .replace(\" \", \"\"))\n",
    "\n",
    "    if len(span_elements) > 1:\n",
    "        year = int(span_elements[1].get_attribute(\"innerHTML\")\\\n",
    "            .replace(\" \", \"\"))\n",
    "    else:\n",
    "        year = datetime.today().year\n",
    "\n",
    "    month_regex = \"[A-Z]{3}.\"\n",
    "    month = re.findall(month_regex, date_el.get_attribute(\"innerHTML\"))[0].replace(\".\", \"\")\n",
    "    month = month_translation_dict.get(month)\n",
    "\n",
    "    return date(year, month, day)"
   ]
  },
  {
   "cell_type": "code",
   "execution_count": 18,
   "id": "bd25820e-f7af-45e2-9dc7-56633541ab9f",
   "metadata": {},
   "outputs": [],
   "source": [
    "def get_category_from_mov_element(mov_element):\n",
    "    category = mov_element.find_element(by=By.XPATH, value=\".//td[@role='gridcell']\")\\\n",
    "        .find_element(by=By.XPATH, value=\".//i[@role='img']\").get_attribute(\"aria-label\")\n",
    "    return category"
   ]
  },
  {
   "cell_type": "code",
   "execution_count": 19,
   "id": "94dc0d9f-c85c-4eb9-b30b-ba592337f43b",
   "metadata": {},
   "outputs": [],
   "source": [
    "def get_amount_from_mov_element(mov_element):\n",
    "    amount = mov_element.find_element(by=By.XPATH, value=\".//span[@class='mensaje']\").get_attribute(\"innerHTML\")\\\n",
    "        .replace(\" \", \"\").replace(\"€\", \"\")\n",
    "    return amount"
   ]
  },
  {
   "cell_type": "code",
   "execution_count": 20,
   "id": "36297f4d-d7f0-47ea-931d-38f54362ae13",
   "metadata": {},
   "outputs": [],
   "source": [
    "def get_data_from_mov_element(mov_element):\n",
    "    date = get_date_from_mov_element(mov_element)\n",
    "\n",
    "    category = get_category_from_mov_element(mov_element)\n",
    "\n",
    "    amount = get_amount_from_mov_element(mov_element)\n",
    "\n",
    "    return {\n",
    "        \"date\": str(date),\n",
    "        \"category\": category,\n",
    "        \"amount\": amount\n",
    "    }"
   ]
  },
  {
   "cell_type": "code",
   "execution_count": 21,
   "id": "d8b09159-1719-4167-9569-81c01568e062",
   "metadata": {
    "tags": []
   },
   "outputs": [],
   "source": [
    "data = []\n",
    "columns = [\"date\", \"category\", \"amount\"]\n",
    "for mov in movement_elements:\n",
    "    mov_data = get_data_from_mov_element(mov)\n",
    "    \n",
    "    data.append([mov_data.get(\"date\"), mov_data.get(\"category\"), mov_data.get(\"amount\")])"
   ]
  },
  {
   "cell_type": "code",
   "execution_count": 22,
   "id": "2bd880c1-8dd5-4842-9185-68c9b17562eb",
   "metadata": {},
   "outputs": [],
   "source": [
    "df = pd.DataFrame(data, columns=columns)"
   ]
  },
  {
   "cell_type": "code",
   "execution_count": null,
   "id": "cc398caa-759b-43fb-8e6a-d89683336d33",
   "metadata": {},
   "outputs": [],
   "source": []
  }
 ],
 "metadata": {
  "kernelspec": {
   "display_name": "Python 3 (ipykernel)",
   "language": "python",
   "name": "python3"
  },
  "language_info": {
   "codemirror_mode": {
    "name": "ipython",
    "version": 3
   },
   "file_extension": ".py",
   "mimetype": "text/x-python",
   "name": "python",
   "nbconvert_exporter": "python",
   "pygments_lexer": "ipython3",
   "version": "3.7.2"
  }
 },
 "nbformat": 4,
 "nbformat_minor": 5
}
