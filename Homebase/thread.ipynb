{
 "cells": [
  {
   "cell_type": "code",
   "execution_count": 1,
   "id": "b17268b9-29b7-44a5-ae3c-6f0fa4bce85b",
   "metadata": {
    "tags": []
   },
   "outputs": [],
   "source": [
    "import django, os, json, time, re\n",
    "from datetime import datetime, date\n",
    "from dateutil.relativedelta import relativedelta\n",
    "from selenium.webdriver.common.by import By\n",
    "from django.conf import settings\n",
    "from selenium.webdriver.support import expected_conditions as EC\n",
    "\n",
    "import pandas as pd\n",
    "import numpy as np\n",
    "\n",
    "os.environ['DJANGO_SETTINGS_MODULE'] = 'Homebase.settings'\n",
    "django.setup()"
   ]
  },
  {
   "cell_type": "code",
   "execution_count": 2,
   "id": "9c204278-bc6a-41ea-92c8-5df0e4e26603",
   "metadata": {},
   "outputs": [],
   "source": [
    "from models.BBVA_scraper import BBVAScraper\n",
    "\n",
    "bbva_scraper = BBVAScraper(headless=False)"
   ]
  },
  {
   "cell_type": "code",
   "execution_count": 3,
   "id": "dcb7f59c-d8f9-49b0-8bed-1cfcb0f6f289",
   "metadata": {},
   "outputs": [
    {
     "name": "stdout",
     "output_type": "stream",
     "text": [
      "Accepted cookies\n",
      "Couldn't switch to iframe\n",
      "Couldnt find any spending or income\n",
      "{'Efectivo y servicios bancarios': 1251.25, 'Ocio': 834.21, 'Viajes': 413.97, 'Compras': 393.89, 'Transporte': 176.09, 'Hogar': 88.09, 'Salarios, rentas y subsidios': 2477.89, 'Efectivo, transferencias y cheques': 486.8, 'Ahorro': 200.0}\n",
      "{'Efectivo y servicios bancarios': 1142.97, 'Ocio': 657.12, 'Compras': 499.47, 'Viajes': 193.3, 'Hogar': 104.37, 'Transporte': 55.31, 'Administraciones públicas': 2.7, 'Salarios, rentas y subsidios': 2477.89, 'Efectivo, transferencias y cheques': 241.29}\n",
      "{'Efectivo y servicios bancarios': 1027.25, 'Compras': 540.74, 'Ocio': 446.23, 'Viajes': 238.25, 'Hogar': 71.67, 'Transporte': 29.79, 'Salarios, rentas y subsidios': 2477.89, 'Efectivo, transferencias y cheques': 262.2}\n",
      "{'Efectivo y servicios bancarios': 1930.36, 'Ocio': 715.68, 'Compras': 359.83, 'Hogar': 250.63, 'Salud y belleza': 44.0, 'Transporte': 9.22, 'Salarios, rentas y subsidios': 2477.89, 'Efectivo, transferencias y cheques': 310.8, 'Inversión': 187.01}\n"
     ]
    },
    {
     "ename": "NoSuchWindowException",
     "evalue": "Message: no such window: target window already closed\nfrom unknown error: web view not found\n  (Session info: chrome=125.0.6422.113)\nStacktrace:\n0   chromedriver_125_x64                0x000000010487c8f8 chromedriver_125_x64 + 5146872\n1   chromedriver_125_x64                0x000000010487486a chromedriver_125_x64 + 5113962\n2   chromedriver_125_x64                0x00000001043f5b6c chromedriver_125_x64 + 400236\n3   chromedriver_125_x64                0x00000001043cb254 chromedriver_125_x64 + 225876\n4   chromedriver_125_x64                0x000000010446e39d chromedriver_125_x64 + 893853\n5   chromedriver_125_x64                0x0000000104484748 chromedriver_125_x64 + 984904\n6   chromedriver_125_x64                0x00000001044656d3 chromedriver_125_x64 + 857811\n7   chromedriver_125_x64                0x0000000104435385 chromedriver_125_x64 + 660357\n8   chromedriver_125_x64                0x0000000104435c1e chromedriver_125_x64 + 662558\n9   chromedriver_125_x64                0x000000010483ec60 chromedriver_125_x64 + 4893792\n10  chromedriver_125_x64                0x0000000104844699 chromedriver_125_x64 + 4916889\n11  chromedriver_125_x64                0x0000000104820384 chromedriver_125_x64 + 4768644\n12  chromedriver_125_x64                0x0000000104845179 chromedriver_125_x64 + 4919673\n13  chromedriver_125_x64                0x0000000104811c74 chromedriver_125_x64 + 4709492\n14  chromedriver_125_x64                0x0000000104865008 chromedriver_125_x64 + 5050376\n15  chromedriver_125_x64                0x00000001048651c7 chromedriver_125_x64 + 5050823\n16  chromedriver_125_x64                0x000000010487441e chromedriver_125_x64 + 5112862\n17  libsystem_pthread.dylib             0x00007ff80302a4e1 _pthread_start + 125\n18  libsystem_pthread.dylib             0x00007ff803025f6b thread_start + 15\n",
     "output_type": "error",
     "traceback": [
      "\u001b[0;31m---------------------------------------------------------------------------\u001b[0m",
      "\u001b[0;31mNoSuchWindowException\u001b[0m                     Traceback (most recent call last)",
      "\u001b[0;32m/var/folders/pv/xvcrd5c54plg__2hktlzx1680000gn/T/ipykernel_32574/2437493722.py\u001b[0m in \u001b[0;36m<module>\u001b[0;34m\u001b[0m\n\u001b[0;32m----> 1\u001b[0;31m \u001b[0mbbva_scraper\u001b[0m\u001b[0;34m.\u001b[0m\u001b[0mget_backlog_month_categories\u001b[0m\u001b[0;34m(\u001b[0m\u001b[0;34m)\u001b[0m\u001b[0;34m\u001b[0m\u001b[0;34m\u001b[0m\u001b[0m\n\u001b[0m",
      "\u001b[0;32m~/Programming/Homebase/Homebase/models/BBVA_scraper.py\u001b[0m in \u001b[0;36mget_backlog_month_categories\u001b[0;34m(self)\u001b[0m\n\u001b[1;32m    455\u001b[0m             start, end = self.convert_date(\n\u001b[1;32m    456\u001b[0m                 date.get(\"start\")), self.convert_date(date.get(\"end\"))\n\u001b[0;32m--> 457\u001b[0;31m             \u001b[0mself\u001b[0m\u001b[0;34m.\u001b[0m\u001b[0mfilter_dates\u001b[0m\u001b[0;34m(\u001b[0m\u001b[0mstart\u001b[0m\u001b[0;34m,\u001b[0m \u001b[0mend\u001b[0m\u001b[0;34m)\u001b[0m\u001b[0;34m\u001b[0m\u001b[0;34m\u001b[0m\u001b[0m\n\u001b[0m\u001b[1;32m    458\u001b[0m             \u001b[0mtime\u001b[0m\u001b[0;34m.\u001b[0m\u001b[0msleep\u001b[0m\u001b[0;34m(\u001b[0m\u001b[0;36m2\u001b[0m\u001b[0;34m)\u001b[0m\u001b[0;34m\u001b[0m\u001b[0;34m\u001b[0m\u001b[0m\n\u001b[1;32m    459\u001b[0m \u001b[0;34m\u001b[0m\u001b[0m\n",
      "\u001b[0;32m~/Programming/Homebase/Homebase/models/BBVA_scraper.py\u001b[0m in \u001b[0;36mfilter_dates\u001b[0;34m(self, date_from, date_until)\u001b[0m\n\u001b[1;32m    310\u001b[0m                           value=\"i\")\n\u001b[1;32m    311\u001b[0m         \u001b[0mtime\u001b[0m\u001b[0;34m.\u001b[0m\u001b[0msleep\u001b[0m\u001b[0;34m(\u001b[0m\u001b[0;36m1\u001b[0m\u001b[0;34m)\u001b[0m\u001b[0;34m\u001b[0m\u001b[0;34m\u001b[0m\u001b[0m\n\u001b[0;32m--> 312\u001b[0;31m         \u001b[0mbtn\u001b[0m\u001b[0;34m.\u001b[0m\u001b[0mclick\u001b[0m\u001b[0;34m(\u001b[0m\u001b[0;34m)\u001b[0m\u001b[0;34m\u001b[0m\u001b[0;34m\u001b[0m\u001b[0m\n\u001b[0m\u001b[1;32m    313\u001b[0m \u001b[0;34m\u001b[0m\u001b[0m\n\u001b[1;32m    314\u001b[0m         inputs = self.driver.find_elements(\n",
      "\u001b[0;32m/Library/Frameworks/Python.framework/Versions/3.7/lib/python3.7/site-packages/selenium/webdriver/remote/webelement.py\u001b[0m in \u001b[0;36mclick\u001b[0;34m(self)\u001b[0m\n\u001b[1;32m     79\u001b[0m     \u001b[0;32mdef\u001b[0m \u001b[0mclick\u001b[0m\u001b[0;34m(\u001b[0m\u001b[0mself\u001b[0m\u001b[0;34m)\u001b[0m \u001b[0;34m->\u001b[0m \u001b[0;32mNone\u001b[0m\u001b[0;34m:\u001b[0m\u001b[0;34m\u001b[0m\u001b[0;34m\u001b[0m\u001b[0m\n\u001b[1;32m     80\u001b[0m         \u001b[0;34m\"\"\"Clicks the element.\"\"\"\u001b[0m\u001b[0;34m\u001b[0m\u001b[0;34m\u001b[0m\u001b[0m\n\u001b[0;32m---> 81\u001b[0;31m         \u001b[0mself\u001b[0m\u001b[0;34m.\u001b[0m\u001b[0m_execute\u001b[0m\u001b[0;34m(\u001b[0m\u001b[0mCommand\u001b[0m\u001b[0;34m.\u001b[0m\u001b[0mCLICK_ELEMENT\u001b[0m\u001b[0;34m)\u001b[0m\u001b[0;34m\u001b[0m\u001b[0;34m\u001b[0m\u001b[0m\n\u001b[0m\u001b[1;32m     82\u001b[0m \u001b[0;34m\u001b[0m\u001b[0m\n\u001b[1;32m     83\u001b[0m     \u001b[0;32mdef\u001b[0m \u001b[0msubmit\u001b[0m\u001b[0;34m(\u001b[0m\u001b[0mself\u001b[0m\u001b[0;34m)\u001b[0m\u001b[0;34m:\u001b[0m\u001b[0;34m\u001b[0m\u001b[0;34m\u001b[0m\u001b[0m\n",
      "\u001b[0;32m/Library/Frameworks/Python.framework/Versions/3.7/lib/python3.7/site-packages/selenium/webdriver/remote/webelement.py\u001b[0m in \u001b[0;36m_execute\u001b[0;34m(self, command, params)\u001b[0m\n\u001b[1;32m    708\u001b[0m             \u001b[0mparams\u001b[0m \u001b[0;34m=\u001b[0m \u001b[0;34m{\u001b[0m\u001b[0;34m}\u001b[0m\u001b[0;34m\u001b[0m\u001b[0;34m\u001b[0m\u001b[0m\n\u001b[1;32m    709\u001b[0m         \u001b[0mparams\u001b[0m\u001b[0;34m[\u001b[0m\u001b[0;34m'id'\u001b[0m\u001b[0;34m]\u001b[0m \u001b[0;34m=\u001b[0m \u001b[0mself\u001b[0m\u001b[0;34m.\u001b[0m\u001b[0m_id\u001b[0m\u001b[0;34m\u001b[0m\u001b[0;34m\u001b[0m\u001b[0m\n\u001b[0;32m--> 710\u001b[0;31m         \u001b[0;32mreturn\u001b[0m \u001b[0mself\u001b[0m\u001b[0;34m.\u001b[0m\u001b[0m_parent\u001b[0m\u001b[0;34m.\u001b[0m\u001b[0mexecute\u001b[0m\u001b[0;34m(\u001b[0m\u001b[0mcommand\u001b[0m\u001b[0;34m,\u001b[0m \u001b[0mparams\u001b[0m\u001b[0;34m)\u001b[0m\u001b[0;34m\u001b[0m\u001b[0;34m\u001b[0m\u001b[0m\n\u001b[0m\u001b[1;32m    711\u001b[0m \u001b[0;34m\u001b[0m\u001b[0m\n\u001b[1;32m    712\u001b[0m     \u001b[0;32mdef\u001b[0m \u001b[0mfind_element\u001b[0m\u001b[0;34m(\u001b[0m\u001b[0mself\u001b[0m\u001b[0;34m,\u001b[0m \u001b[0mby\u001b[0m\u001b[0;34m=\u001b[0m\u001b[0mBy\u001b[0m\u001b[0;34m.\u001b[0m\u001b[0mID\u001b[0m\u001b[0;34m,\u001b[0m \u001b[0mvalue\u001b[0m\u001b[0;34m=\u001b[0m\u001b[0;32mNone\u001b[0m\u001b[0;34m)\u001b[0m\u001b[0;34m:\u001b[0m\u001b[0;34m\u001b[0m\u001b[0;34m\u001b[0m\u001b[0m\n",
      "\u001b[0;32m/Library/Frameworks/Python.framework/Versions/3.7/lib/python3.7/site-packages/selenium/webdriver/remote/webdriver.py\u001b[0m in \u001b[0;36mexecute\u001b[0;34m(self, driver_command, params)\u001b[0m\n\u001b[1;32m    423\u001b[0m         \u001b[0mresponse\u001b[0m \u001b[0;34m=\u001b[0m \u001b[0mself\u001b[0m\u001b[0;34m.\u001b[0m\u001b[0mcommand_executor\u001b[0m\u001b[0;34m.\u001b[0m\u001b[0mexecute\u001b[0m\u001b[0;34m(\u001b[0m\u001b[0mdriver_command\u001b[0m\u001b[0;34m,\u001b[0m \u001b[0mparams\u001b[0m\u001b[0;34m)\u001b[0m\u001b[0;34m\u001b[0m\u001b[0;34m\u001b[0m\u001b[0m\n\u001b[1;32m    424\u001b[0m         \u001b[0;32mif\u001b[0m \u001b[0mresponse\u001b[0m\u001b[0;34m:\u001b[0m\u001b[0;34m\u001b[0m\u001b[0;34m\u001b[0m\u001b[0m\n\u001b[0;32m--> 425\u001b[0;31m             \u001b[0mself\u001b[0m\u001b[0;34m.\u001b[0m\u001b[0merror_handler\u001b[0m\u001b[0;34m.\u001b[0m\u001b[0mcheck_response\u001b[0m\u001b[0;34m(\u001b[0m\u001b[0mresponse\u001b[0m\u001b[0;34m)\u001b[0m\u001b[0;34m\u001b[0m\u001b[0;34m\u001b[0m\u001b[0m\n\u001b[0m\u001b[1;32m    426\u001b[0m             response['value'] = self._unwrap_value(\n\u001b[1;32m    427\u001b[0m                 response.get('value', None))\n",
      "\u001b[0;32m/Library/Frameworks/Python.framework/Versions/3.7/lib/python3.7/site-packages/selenium/webdriver/remote/errorhandler.py\u001b[0m in \u001b[0;36mcheck_response\u001b[0;34m(self, response)\u001b[0m\n\u001b[1;32m    245\u001b[0m                 \u001b[0malert_text\u001b[0m \u001b[0;34m=\u001b[0m \u001b[0mvalue\u001b[0m\u001b[0;34m[\u001b[0m\u001b[0;34m'alert'\u001b[0m\u001b[0;34m]\u001b[0m\u001b[0;34m.\u001b[0m\u001b[0mget\u001b[0m\u001b[0;34m(\u001b[0m\u001b[0;34m'text'\u001b[0m\u001b[0;34m)\u001b[0m\u001b[0;34m\u001b[0m\u001b[0;34m\u001b[0m\u001b[0m\n\u001b[1;32m    246\u001b[0m             \u001b[0;32mraise\u001b[0m \u001b[0mexception_class\u001b[0m\u001b[0;34m(\u001b[0m\u001b[0mmessage\u001b[0m\u001b[0;34m,\u001b[0m \u001b[0mscreen\u001b[0m\u001b[0;34m,\u001b[0m \u001b[0mstacktrace\u001b[0m\u001b[0;34m,\u001b[0m \u001b[0malert_text\u001b[0m\u001b[0;34m)\u001b[0m  \u001b[0;31m# type: ignore[call-arg]  # mypy is not smart enough here\u001b[0m\u001b[0;34m\u001b[0m\u001b[0;34m\u001b[0m\u001b[0m\n\u001b[0;32m--> 247\u001b[0;31m         \u001b[0;32mraise\u001b[0m \u001b[0mexception_class\u001b[0m\u001b[0;34m(\u001b[0m\u001b[0mmessage\u001b[0m\u001b[0;34m,\u001b[0m \u001b[0mscreen\u001b[0m\u001b[0;34m,\u001b[0m \u001b[0mstacktrace\u001b[0m\u001b[0;34m)\u001b[0m\u001b[0;34m\u001b[0m\u001b[0;34m\u001b[0m\u001b[0m\n\u001b[0m\u001b[1;32m    248\u001b[0m \u001b[0;34m\u001b[0m\u001b[0m\n\u001b[1;32m    249\u001b[0m     \u001b[0;32mdef\u001b[0m \u001b[0m_value_or_default\u001b[0m\u001b[0;34m(\u001b[0m\u001b[0mself\u001b[0m\u001b[0;34m,\u001b[0m \u001b[0mobj\u001b[0m\u001b[0;34m:\u001b[0m \u001b[0mMapping\u001b[0m\u001b[0;34m[\u001b[0m\u001b[0m_KT\u001b[0m\u001b[0;34m,\u001b[0m \u001b[0m_VT\u001b[0m\u001b[0;34m]\u001b[0m\u001b[0;34m,\u001b[0m \u001b[0mkey\u001b[0m\u001b[0;34m:\u001b[0m \u001b[0m_KT\u001b[0m\u001b[0;34m,\u001b[0m \u001b[0mdefault\u001b[0m\u001b[0;34m:\u001b[0m \u001b[0m_VT\u001b[0m\u001b[0;34m)\u001b[0m \u001b[0;34m->\u001b[0m \u001b[0m_VT\u001b[0m\u001b[0;34m:\u001b[0m\u001b[0;34m\u001b[0m\u001b[0;34m\u001b[0m\u001b[0m\n",
      "\u001b[0;31mNoSuchWindowException\u001b[0m: Message: no such window: target window already closed\nfrom unknown error: web view not found\n  (Session info: chrome=125.0.6422.113)\nStacktrace:\n0   chromedriver_125_x64                0x000000010487c8f8 chromedriver_125_x64 + 5146872\n1   chromedriver_125_x64                0x000000010487486a chromedriver_125_x64 + 5113962\n2   chromedriver_125_x64                0x00000001043f5b6c chromedriver_125_x64 + 400236\n3   chromedriver_125_x64                0x00000001043cb254 chromedriver_125_x64 + 225876\n4   chromedriver_125_x64                0x000000010446e39d chromedriver_125_x64 + 893853\n5   chromedriver_125_x64                0x0000000104484748 chromedriver_125_x64 + 984904\n6   chromedriver_125_x64                0x00000001044656d3 chromedriver_125_x64 + 857811\n7   chromedriver_125_x64                0x0000000104435385 chromedriver_125_x64 + 660357\n8   chromedriver_125_x64                0x0000000104435c1e chromedriver_125_x64 + 662558\n9   chromedriver_125_x64                0x000000010483ec60 chromedriver_125_x64 + 4893792\n10  chromedriver_125_x64                0x0000000104844699 chromedriver_125_x64 + 4916889\n11  chromedriver_125_x64                0x0000000104820384 chromedriver_125_x64 + 4768644\n12  chromedriver_125_x64                0x0000000104845179 chromedriver_125_x64 + 4919673\n13  chromedriver_125_x64                0x0000000104811c74 chromedriver_125_x64 + 4709492\n14  chromedriver_125_x64                0x0000000104865008 chromedriver_125_x64 + 5050376\n15  chromedriver_125_x64                0x00000001048651c7 chromedriver_125_x64 + 5050823\n16  chromedriver_125_x64                0x000000010487441e chromedriver_125_x64 + 5112862\n17  libsystem_pthread.dylib             0x00007ff80302a4e1 _pthread_start + 125\n18  libsystem_pthread.dylib             0x00007ff803025f6b thread_start + 15\n"
     ]
    }
   ],
   "source": [
    "bbva_scraper.get_backlog_month_categories()"
   ]
  },
  {
   "cell_type": "code",
   "execution_count": null,
   "id": "538f1376-d139-4380-8037-3587ddfe642d",
   "metadata": {},
   "outputs": [],
   "source": []
  }
 ],
 "metadata": {
  "kernelspec": {
   "display_name": "Python 3 (ipykernel)",
   "language": "python",
   "name": "python3"
  },
  "language_info": {
   "codemirror_mode": {
    "name": "ipython",
    "version": 3
   },
   "file_extension": ".py",
   "mimetype": "text/x-python",
   "name": "python",
   "nbconvert_exporter": "python",
   "pygments_lexer": "ipython3",
   "version": "3.7.2"
  }
 },
 "nbformat": 4,
 "nbformat_minor": 5
}
