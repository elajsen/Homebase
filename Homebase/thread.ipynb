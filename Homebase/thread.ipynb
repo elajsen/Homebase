{
 "cells": [
  {
   "cell_type": "code",
   "execution_count": 1,
   "id": "b17268b9-29b7-44a5-ae3c-6f0fa4bce85b",
   "metadata": {},
   "outputs": [],
   "source": [
    "import django, os, json, time, re\n",
    "from datetime import datetime, date\n",
    "from selenium.webdriver.common.by import By\n",
    "from django.conf import settings\n",
    "\n",
    "from selenium.webdriver.support import expected_conditions as EC\n",
    "\n",
    "import pandas as pd\n",
    "\n",
    "os.environ['DJANGO_SETTINGS_MODULE'] = 'Homebase.settings'\n",
    "django.setup()"
   ]
  },
  {
   "cell_type": "code",
   "execution_count": 2,
   "id": "5fb68d66-4d59-4fe6-8f1d-c0007cb54245",
   "metadata": {},
   "outputs": [],
   "source": [
    "from models.mongo_handler import MongoHandler\n",
    "mh = MongoHandler()"
   ]
  },
  {
   "cell_type": "code",
   "execution_count": 23,
   "id": "0077481f-b620-48cf-94a1-84cd6686b638",
   "metadata": {},
   "outputs": [
    {
     "name": "stdout",
     "output_type": "stream",
     "text": [
      "{'_id': ObjectId('6495ba135a33dcb02d7e916b'), 'Efectivo y servicios bancarios': 873.34, 'Ocio': 230.44, 'Compras': 215.35, 'Hogar': 129.45, 'Transporte': 7.87, 'Salud y belleza': 1.99, 'Ingreso Bizum': 79.4, 'date': '2023-06-01', 'data_time': '2023-06-23 17:28:19'}\n"
     ]
    }
   ],
   "source": [
    "obj = list(mh.search_collection(mh.db_name,\n",
    "                     mh.budget_history_collection,\n",
    "                     {\"date\": \"2023-06-01\"}))[0]\n",
    "print(obj)"
   ]
  },
  {
   "cell_type": "code",
   "execution_count": 22,
   "id": "10fea7c2-0c67-4860-a8f6-a75d9810ea6e",
   "metadata": {},
   "outputs": [
    {
     "name": "stdout",
     "output_type": "stream",
     "text": [
      "Deleted 1 items.\n"
     ]
    }
   ],
   "source": [
    "mh.delete_values(mh.db_name,\n",
    "                 mh.budget_history_collection,\n",
    "                 {\"_id\": obj.get(\"_id\")})"
   ]
  },
  {
   "cell_type": "code",
   "execution_count": null,
   "id": "3f6d57b1-a7ff-4db9-9bb4-571b5af7524e",
   "metadata": {},
   "outputs": [],
   "source": [
    "old_current_month_object = list(self.mongo_handler.search_collection(\n",
    "            self.mongo_handler.db_name,\n",
    "            self.mongo_handler.budget_history_collection,\n",
    "            {\"date\": str(current_month_date)}\n",
    "        ))"
   ]
  }
 ],
 "metadata": {
  "kernelspec": {
   "display_name": "Python 3 (ipykernel)",
   "language": "python",
   "name": "python3"
  },
  "language_info": {
   "codemirror_mode": {
    "name": "ipython",
    "version": 3
   },
   "file_extension": ".py",
   "mimetype": "text/x-python",
   "name": "python",
   "nbconvert_exporter": "python",
   "pygments_lexer": "ipython3",
   "version": "3.7.2"
  }
 },
 "nbformat": 4,
 "nbformat_minor": 5
}
